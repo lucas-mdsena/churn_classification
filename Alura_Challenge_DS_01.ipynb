{
  "cells": [
    {
      "attachments": {},
      "cell_type": "markdown",
      "metadata": {
        "id": "T7xvTgfG7OmV"
      },
      "source": [
        "# Semana 1 - Leitura e Tratamento dos Dados"
      ]
    },
    {
      "attachments": {},
      "cell_type": "markdown",
      "metadata": {
        "id": "fG2qvTsINvMw"
      },
      "source": [
        "## Importando dados"
      ]
    },
    {
      "cell_type": "code",
      "execution_count": 1,
      "metadata": {
        "id": "wDdJTEF1NvMy"
      },
      "outputs": [],
      "source": [
        "import pandas as pd\n",
        "pd.set_option('display.max_columns',100)\n",
        "pd.set_option('display.max_rows',100)"
      ]
    },
    {
      "cell_type": "code",
      "execution_count": 2,
      "metadata": {
        "colab": {
          "base_uri": "https://localhost:8080/",
          "height": 206
        },
        "id": "81Dbck4hNvMy",
        "outputId": "6eaa9889-2015-4ced-974a-be4c9253bda1"
      },
      "outputs": [
        {
          "data": {
            "text/html": [
              "<div>\n",
              "<style scoped>\n",
              "    .dataframe tbody tr th:only-of-type {\n",
              "        vertical-align: middle;\n",
              "    }\n",
              "\n",
              "    .dataframe tbody tr th {\n",
              "        vertical-align: top;\n",
              "    }\n",
              "\n",
              "    .dataframe thead th {\n",
              "        text-align: right;\n",
              "    }\n",
              "</style>\n",
              "<table border=\"1\" class=\"dataframe\">\n",
              "  <thead>\n",
              "    <tr style=\"text-align: right;\">\n",
              "      <th></th>\n",
              "      <th>customerID</th>\n",
              "      <th>Churn</th>\n",
              "      <th>customer</th>\n",
              "      <th>phone</th>\n",
              "      <th>internet</th>\n",
              "      <th>account</th>\n",
              "    </tr>\n",
              "  </thead>\n",
              "  <tbody>\n",
              "    <tr>\n",
              "      <th>0</th>\n",
              "      <td>0002-ORFBO</td>\n",
              "      <td>No</td>\n",
              "      <td>{'gender': 'Female', 'SeniorCitizen': 0, 'Part...</td>\n",
              "      <td>{'PhoneService': 'Yes', 'MultipleLines': 'No'}</td>\n",
              "      <td>{'InternetService': 'DSL', 'OnlineSecurity': '...</td>\n",
              "      <td>{'Contract': 'One year', 'PaperlessBilling': '...</td>\n",
              "    </tr>\n",
              "    <tr>\n",
              "      <th>1</th>\n",
              "      <td>0003-MKNFE</td>\n",
              "      <td>No</td>\n",
              "      <td>{'gender': 'Male', 'SeniorCitizen': 0, 'Partne...</td>\n",
              "      <td>{'PhoneService': 'Yes', 'MultipleLines': 'Yes'}</td>\n",
              "      <td>{'InternetService': 'DSL', 'OnlineSecurity': '...</td>\n",
              "      <td>{'Contract': 'Month-to-month', 'PaperlessBilli...</td>\n",
              "    </tr>\n",
              "    <tr>\n",
              "      <th>2</th>\n",
              "      <td>0004-TLHLJ</td>\n",
              "      <td>Yes</td>\n",
              "      <td>{'gender': 'Male', 'SeniorCitizen': 0, 'Partne...</td>\n",
              "      <td>{'PhoneService': 'Yes', 'MultipleLines': 'No'}</td>\n",
              "      <td>{'InternetService': 'Fiber optic', 'OnlineSecu...</td>\n",
              "      <td>{'Contract': 'Month-to-month', 'PaperlessBilli...</td>\n",
              "    </tr>\n",
              "    <tr>\n",
              "      <th>3</th>\n",
              "      <td>0011-IGKFF</td>\n",
              "      <td>Yes</td>\n",
              "      <td>{'gender': 'Male', 'SeniorCitizen': 1, 'Partne...</td>\n",
              "      <td>{'PhoneService': 'Yes', 'MultipleLines': 'No'}</td>\n",
              "      <td>{'InternetService': 'Fiber optic', 'OnlineSecu...</td>\n",
              "      <td>{'Contract': 'Month-to-month', 'PaperlessBilli...</td>\n",
              "    </tr>\n",
              "    <tr>\n",
              "      <th>4</th>\n",
              "      <td>0013-EXCHZ</td>\n",
              "      <td>Yes</td>\n",
              "      <td>{'gender': 'Female', 'SeniorCitizen': 1, 'Part...</td>\n",
              "      <td>{'PhoneService': 'Yes', 'MultipleLines': 'No'}</td>\n",
              "      <td>{'InternetService': 'Fiber optic', 'OnlineSecu...</td>\n",
              "      <td>{'Contract': 'Month-to-month', 'PaperlessBilli...</td>\n",
              "    </tr>\n",
              "  </tbody>\n",
              "</table>\n",
              "</div>"
            ],
            "text/plain": [
              "   customerID Churn                                           customer  \\\n",
              "0  0002-ORFBO    No  {'gender': 'Female', 'SeniorCitizen': 0, 'Part...   \n",
              "1  0003-MKNFE    No  {'gender': 'Male', 'SeniorCitizen': 0, 'Partne...   \n",
              "2  0004-TLHLJ   Yes  {'gender': 'Male', 'SeniorCitizen': 0, 'Partne...   \n",
              "3  0011-IGKFF   Yes  {'gender': 'Male', 'SeniorCitizen': 1, 'Partne...   \n",
              "4  0013-EXCHZ   Yes  {'gender': 'Female', 'SeniorCitizen': 1, 'Part...   \n",
              "\n",
              "                                             phone  \\\n",
              "0   {'PhoneService': 'Yes', 'MultipleLines': 'No'}   \n",
              "1  {'PhoneService': 'Yes', 'MultipleLines': 'Yes'}   \n",
              "2   {'PhoneService': 'Yes', 'MultipleLines': 'No'}   \n",
              "3   {'PhoneService': 'Yes', 'MultipleLines': 'No'}   \n",
              "4   {'PhoneService': 'Yes', 'MultipleLines': 'No'}   \n",
              "\n",
              "                                            internet  \\\n",
              "0  {'InternetService': 'DSL', 'OnlineSecurity': '...   \n",
              "1  {'InternetService': 'DSL', 'OnlineSecurity': '...   \n",
              "2  {'InternetService': 'Fiber optic', 'OnlineSecu...   \n",
              "3  {'InternetService': 'Fiber optic', 'OnlineSecu...   \n",
              "4  {'InternetService': 'Fiber optic', 'OnlineSecu...   \n",
              "\n",
              "                                             account  \n",
              "0  {'Contract': 'One year', 'PaperlessBilling': '...  \n",
              "1  {'Contract': 'Month-to-month', 'PaperlessBilli...  \n",
              "2  {'Contract': 'Month-to-month', 'PaperlessBilli...  \n",
              "3  {'Contract': 'Month-to-month', 'PaperlessBilli...  \n",
              "4  {'Contract': 'Month-to-month', 'PaperlessBilli...  "
            ]
          },
          "execution_count": 2,
          "metadata": {},
          "output_type": "execute_result"
        }
      ],
      "source": [
        "uri = 'https://raw.githubusercontent.com/sthemonica/alura-voz/main/Dados/Telco-Customer-Churn.json'\n",
        "dados = pd.read_json(uri)\n",
        "dados.head()"
      ]
    },
    {
      "attachments": {},
      "cell_type": "markdown",
      "metadata": {
        "id": "VzfkOBVUNvMz"
      },
      "source": [
        "## Verificando o conteúdo das primeiras colunas"
      ]
    },
    {
      "cell_type": "code",
      "execution_count": 3,
      "metadata": {
        "colab": {
          "base_uri": "https://localhost:8080/"
        },
        "id": "6Xav5bfGNvMz",
        "outputId": "38d33d56-a340-4cdf-e107-9e26bf1aa99c"
      },
      "outputs": [
        {
          "name": "stdout",
          "output_type": "stream",
          "text": [
            "<class 'pandas.core.frame.DataFrame'>\n",
            "RangeIndex: 7267 entries, 0 to 7266\n",
            "Data columns (total 2 columns):\n",
            " #   Column      Non-Null Count  Dtype \n",
            "---  ------      --------------  ----- \n",
            " 0   customerID  7267 non-null   object\n",
            " 1   Churn       7267 non-null   object\n",
            "dtypes: object(2)\n",
            "memory usage: 113.7+ KB\n"
          ]
        }
      ],
      "source": [
        "dados[['customerID', 'Churn']].info()"
      ]
    },
    {
      "cell_type": "code",
      "execution_count": 4,
      "metadata": {
        "colab": {
          "base_uri": "https://localhost:8080/"
        },
        "id": "pfxKi1a-NvMz",
        "outputId": "2b9cfa99-b24d-4ef9-b8e0-a667bcdbc0e0"
      },
      "outputs": [
        {
          "name": "stdout",
          "output_type": "stream",
          "text": [
            "0002-ORFBO    1\n",
            "6614-VBEGU    1\n",
            "6637-KYRCV    1\n",
            "6635-MYYYZ    1\n",
            "6635-CPNUN    1\n",
            "             ..\n",
            "3374-TTZTK    1\n",
            "3374-PZLXD    1\n",
            "3374-LXDEV    1\n",
            "3373-YZZYM    1\n",
            "9995-HOTOH    1\n",
            "Name: customerID, Length: 7267, dtype: int64\n",
            "No     5174\n",
            "Yes    1869\n",
            "        224\n",
            "Name: Churn, dtype: int64\n"
          ]
        }
      ],
      "source": [
        "print(dados.customerID.value_counts())\n",
        "print(dados.Churn.value_counts())"
      ]
    },
    {
      "attachments": {},
      "cell_type": "markdown",
      "metadata": {
        "id": "otnr3xtQNvM0"
      },
      "source": [
        "Há uma categoria sem label na coluna Churn. As observações serão removidas."
      ]
    },
    {
      "cell_type": "code",
      "execution_count": 5,
      "metadata": {
        "colab": {
          "base_uri": "https://localhost:8080/"
        },
        "id": "0xwKTdfANvM0",
        "outputId": "8abd3e2c-d598-4054-e88b-199d0ab21e79"
      },
      "outputs": [
        {
          "data": {
            "text/plain": [
              "No     5174\n",
              "Yes    1869\n",
              "Name: Churn, dtype: int64"
            ]
          },
          "execution_count": 5,
          "metadata": {},
          "output_type": "execute_result"
        }
      ],
      "source": [
        "dados = dados.query('Churn != \"\"')\n",
        "dados.reset_index(drop=True, inplace=True)\n",
        "dados.Churn.value_counts()"
      ]
    },
    {
      "attachments": {},
      "cell_type": "markdown",
      "metadata": {
        "id": "ZqMIXu6iNvM0"
      },
      "source": [
        "## Normalizando os nós json"
      ]
    },
    {
      "attachments": {},
      "cell_type": "markdown",
      "metadata": {
        "id": "KkKWMbmgNvM0"
      },
      "source": [
        "\n",
        "fazer as análises de inconsistências<br>"
      ]
    },
    {
      "cell_type": "code",
      "execution_count": 6,
      "metadata": {
        "colab": {
          "base_uri": "https://localhost:8080/",
          "height": 112
        },
        "id": "kLegIXKGNvM0",
        "outputId": "f1913faf-7c98-4c96-ec68-7c4c7523101f"
      },
      "outputs": [
        {
          "data": {
            "text/html": [
              "<div>\n",
              "<style scoped>\n",
              "    .dataframe tbody tr th:only-of-type {\n",
              "        vertical-align: middle;\n",
              "    }\n",
              "\n",
              "    .dataframe tbody tr th {\n",
              "        vertical-align: top;\n",
              "    }\n",
              "\n",
              "    .dataframe thead th {\n",
              "        text-align: right;\n",
              "    }\n",
              "</style>\n",
              "<table border=\"1\" class=\"dataframe\">\n",
              "  <thead>\n",
              "    <tr style=\"text-align: right;\">\n",
              "      <th></th>\n",
              "      <th>gender</th>\n",
              "      <th>SeniorCitizen</th>\n",
              "      <th>Partner</th>\n",
              "      <th>Dependents</th>\n",
              "      <th>tenure</th>\n",
              "    </tr>\n",
              "  </thead>\n",
              "  <tbody>\n",
              "    <tr>\n",
              "      <th>0</th>\n",
              "      <td>Female</td>\n",
              "      <td>0</td>\n",
              "      <td>Yes</td>\n",
              "      <td>Yes</td>\n",
              "      <td>9</td>\n",
              "    </tr>\n",
              "    <tr>\n",
              "      <th>1</th>\n",
              "      <td>Male</td>\n",
              "      <td>0</td>\n",
              "      <td>No</td>\n",
              "      <td>No</td>\n",
              "      <td>9</td>\n",
              "    </tr>\n",
              "  </tbody>\n",
              "</table>\n",
              "</div>"
            ],
            "text/plain": [
              "   gender  SeniorCitizen Partner Dependents  tenure\n",
              "0  Female              0     Yes        Yes       9\n",
              "1    Male              0      No         No       9"
            ]
          },
          "execution_count": 6,
          "metadata": {},
          "output_type": "execute_result"
        }
      ],
      "source": [
        "dados_customer = pd.json_normalize(dados.customer)\n",
        "dados_customer.head(2)"
      ]
    },
    {
      "cell_type": "code",
      "execution_count": 7,
      "metadata": {
        "colab": {
          "base_uri": "https://localhost:8080/",
          "height": 112
        },
        "id": "h6rGMMO6NvM1",
        "outputId": "a4bb8e29-be48-4154-aefe-fe26f299bacc"
      },
      "outputs": [
        {
          "data": {
            "text/html": [
              "<div>\n",
              "<style scoped>\n",
              "    .dataframe tbody tr th:only-of-type {\n",
              "        vertical-align: middle;\n",
              "    }\n",
              "\n",
              "    .dataframe tbody tr th {\n",
              "        vertical-align: top;\n",
              "    }\n",
              "\n",
              "    .dataframe thead th {\n",
              "        text-align: right;\n",
              "    }\n",
              "</style>\n",
              "<table border=\"1\" class=\"dataframe\">\n",
              "  <thead>\n",
              "    <tr style=\"text-align: right;\">\n",
              "      <th></th>\n",
              "      <th>PhoneService</th>\n",
              "      <th>MultipleLines</th>\n",
              "    </tr>\n",
              "  </thead>\n",
              "  <tbody>\n",
              "    <tr>\n",
              "      <th>0</th>\n",
              "      <td>Yes</td>\n",
              "      <td>No</td>\n",
              "    </tr>\n",
              "    <tr>\n",
              "      <th>1</th>\n",
              "      <td>Yes</td>\n",
              "      <td>Yes</td>\n",
              "    </tr>\n",
              "  </tbody>\n",
              "</table>\n",
              "</div>"
            ],
            "text/plain": [
              "  PhoneService MultipleLines\n",
              "0          Yes            No\n",
              "1          Yes           Yes"
            ]
          },
          "execution_count": 7,
          "metadata": {},
          "output_type": "execute_result"
        }
      ],
      "source": [
        "dados_phone = pd.json_normalize(dados.phone)\n",
        "dados_phone.head(2)"
      ]
    },
    {
      "cell_type": "code",
      "execution_count": 8,
      "metadata": {
        "colab": {
          "base_uri": "https://localhost:8080/",
          "height": 112
        },
        "id": "UK65cHWLNvM1",
        "outputId": "e3018290-3834-47aa-a1cc-a9c4bbe2612d"
      },
      "outputs": [
        {
          "data": {
            "text/html": [
              "<div>\n",
              "<style scoped>\n",
              "    .dataframe tbody tr th:only-of-type {\n",
              "        vertical-align: middle;\n",
              "    }\n",
              "\n",
              "    .dataframe tbody tr th {\n",
              "        vertical-align: top;\n",
              "    }\n",
              "\n",
              "    .dataframe thead th {\n",
              "        text-align: right;\n",
              "    }\n",
              "</style>\n",
              "<table border=\"1\" class=\"dataframe\">\n",
              "  <thead>\n",
              "    <tr style=\"text-align: right;\">\n",
              "      <th></th>\n",
              "      <th>InternetService</th>\n",
              "      <th>OnlineSecurity</th>\n",
              "      <th>OnlineBackup</th>\n",
              "      <th>DeviceProtection</th>\n",
              "      <th>TechSupport</th>\n",
              "      <th>StreamingTV</th>\n",
              "      <th>StreamingMovies</th>\n",
              "    </tr>\n",
              "  </thead>\n",
              "  <tbody>\n",
              "    <tr>\n",
              "      <th>0</th>\n",
              "      <td>DSL</td>\n",
              "      <td>No</td>\n",
              "      <td>Yes</td>\n",
              "      <td>No</td>\n",
              "      <td>Yes</td>\n",
              "      <td>Yes</td>\n",
              "      <td>No</td>\n",
              "    </tr>\n",
              "    <tr>\n",
              "      <th>1</th>\n",
              "      <td>DSL</td>\n",
              "      <td>No</td>\n",
              "      <td>No</td>\n",
              "      <td>No</td>\n",
              "      <td>No</td>\n",
              "      <td>No</td>\n",
              "      <td>Yes</td>\n",
              "    </tr>\n",
              "  </tbody>\n",
              "</table>\n",
              "</div>"
            ],
            "text/plain": [
              "  InternetService OnlineSecurity OnlineBackup DeviceProtection TechSupport  \\\n",
              "0             DSL             No          Yes               No         Yes   \n",
              "1             DSL             No           No               No          No   \n",
              "\n",
              "  StreamingTV StreamingMovies  \n",
              "0         Yes              No  \n",
              "1          No             Yes  "
            ]
          },
          "execution_count": 8,
          "metadata": {},
          "output_type": "execute_result"
        }
      ],
      "source": [
        "dados_internet = pd.json_normalize(dados.internet)\n",
        "dados_internet.head(2)"
      ]
    },
    {
      "cell_type": "code",
      "execution_count": 9,
      "metadata": {
        "colab": {
          "base_uri": "https://localhost:8080/",
          "height": 112
        },
        "id": "xOwxHiiwNvM1",
        "outputId": "dc1cf8cb-e422-4669-8829-ac1650d0b97e"
      },
      "outputs": [
        {
          "data": {
            "text/html": [
              "<div>\n",
              "<style scoped>\n",
              "    .dataframe tbody tr th:only-of-type {\n",
              "        vertical-align: middle;\n",
              "    }\n",
              "\n",
              "    .dataframe tbody tr th {\n",
              "        vertical-align: top;\n",
              "    }\n",
              "\n",
              "    .dataframe thead th {\n",
              "        text-align: right;\n",
              "    }\n",
              "</style>\n",
              "<table border=\"1\" class=\"dataframe\">\n",
              "  <thead>\n",
              "    <tr style=\"text-align: right;\">\n",
              "      <th></th>\n",
              "      <th>Contract</th>\n",
              "      <th>PaperlessBilling</th>\n",
              "      <th>PaymentMethod</th>\n",
              "      <th>Charges.Monthly</th>\n",
              "      <th>Charges.Total</th>\n",
              "    </tr>\n",
              "  </thead>\n",
              "  <tbody>\n",
              "    <tr>\n",
              "      <th>0</th>\n",
              "      <td>One year</td>\n",
              "      <td>Yes</td>\n",
              "      <td>Mailed check</td>\n",
              "      <td>65.6</td>\n",
              "      <td>593.3</td>\n",
              "    </tr>\n",
              "    <tr>\n",
              "      <th>1</th>\n",
              "      <td>Month-to-month</td>\n",
              "      <td>No</td>\n",
              "      <td>Mailed check</td>\n",
              "      <td>59.9</td>\n",
              "      <td>542.4</td>\n",
              "    </tr>\n",
              "  </tbody>\n",
              "</table>\n",
              "</div>"
            ],
            "text/plain": [
              "         Contract PaperlessBilling PaymentMethod  Charges.Monthly  \\\n",
              "0        One year              Yes  Mailed check             65.6   \n",
              "1  Month-to-month               No  Mailed check             59.9   \n",
              "\n",
              "  Charges.Total  \n",
              "0         593.3  \n",
              "1         542.4  "
            ]
          },
          "execution_count": 9,
          "metadata": {},
          "output_type": "execute_result"
        }
      ],
      "source": [
        "dados_account = pd.json_normalize(dados.account)\n",
        "dados_account.head(2)"
      ]
    },
    {
      "attachments": {},
      "cell_type": "markdown",
      "metadata": {
        "id": "TAc832HINvM1"
      },
      "source": [
        "### Concatenando as colunas normalizadas"
      ]
    },
    {
      "cell_type": "code",
      "execution_count": 10,
      "metadata": {
        "id": "i7Q_QrsPNvM1"
      },
      "outputs": [],
      "source": [
        "def normalizar(dados):\n",
        "    json_normalizado = pd.DataFrame()\n",
        "    for coluna in dados.columns[2:]:\n",
        "        json_normalizado = pd.concat([json_normalizado, pd.json_normalize(dados[coluna])], axis='columns')\n",
        "\n",
        "    return pd.concat([dados[['customerID', 'Churn']], json_normalizado], axis='columns')"
      ]
    },
    {
      "cell_type": "code",
      "execution_count": 11,
      "metadata": {
        "colab": {
          "base_uri": "https://localhost:8080/",
          "height": 357
        },
        "id": "prsn_DweNvM1",
        "outputId": "710aeead-ba59-4481-fc30-21de2a0d07cb"
      },
      "outputs": [
        {
          "data": {
            "text/html": [
              "<div>\n",
              "<style scoped>\n",
              "    .dataframe tbody tr th:only-of-type {\n",
              "        vertical-align: middle;\n",
              "    }\n",
              "\n",
              "    .dataframe tbody tr th {\n",
              "        vertical-align: top;\n",
              "    }\n",
              "\n",
              "    .dataframe thead th {\n",
              "        text-align: right;\n",
              "    }\n",
              "</style>\n",
              "<table border=\"1\" class=\"dataframe\">\n",
              "  <thead>\n",
              "    <tr style=\"text-align: right;\">\n",
              "      <th></th>\n",
              "      <th>customerID</th>\n",
              "      <th>Churn</th>\n",
              "      <th>gender</th>\n",
              "      <th>SeniorCitizen</th>\n",
              "      <th>Partner</th>\n",
              "      <th>Dependents</th>\n",
              "      <th>tenure</th>\n",
              "      <th>PhoneService</th>\n",
              "      <th>MultipleLines</th>\n",
              "      <th>InternetService</th>\n",
              "      <th>OnlineSecurity</th>\n",
              "      <th>OnlineBackup</th>\n",
              "      <th>DeviceProtection</th>\n",
              "      <th>TechSupport</th>\n",
              "      <th>StreamingTV</th>\n",
              "      <th>StreamingMovies</th>\n",
              "      <th>Contract</th>\n",
              "      <th>PaperlessBilling</th>\n",
              "      <th>PaymentMethod</th>\n",
              "      <th>Charges.Monthly</th>\n",
              "      <th>Charges.Total</th>\n",
              "    </tr>\n",
              "  </thead>\n",
              "  <tbody>\n",
              "    <tr>\n",
              "      <th>0</th>\n",
              "      <td>0002-ORFBO</td>\n",
              "      <td>No</td>\n",
              "      <td>Female</td>\n",
              "      <td>0</td>\n",
              "      <td>Yes</td>\n",
              "      <td>Yes</td>\n",
              "      <td>9</td>\n",
              "      <td>Yes</td>\n",
              "      <td>No</td>\n",
              "      <td>DSL</td>\n",
              "      <td>No</td>\n",
              "      <td>Yes</td>\n",
              "      <td>No</td>\n",
              "      <td>Yes</td>\n",
              "      <td>Yes</td>\n",
              "      <td>No</td>\n",
              "      <td>One year</td>\n",
              "      <td>Yes</td>\n",
              "      <td>Mailed check</td>\n",
              "      <td>65.6</td>\n",
              "      <td>593.3</td>\n",
              "    </tr>\n",
              "    <tr>\n",
              "      <th>1</th>\n",
              "      <td>0003-MKNFE</td>\n",
              "      <td>No</td>\n",
              "      <td>Male</td>\n",
              "      <td>0</td>\n",
              "      <td>No</td>\n",
              "      <td>No</td>\n",
              "      <td>9</td>\n",
              "      <td>Yes</td>\n",
              "      <td>Yes</td>\n",
              "      <td>DSL</td>\n",
              "      <td>No</td>\n",
              "      <td>No</td>\n",
              "      <td>No</td>\n",
              "      <td>No</td>\n",
              "      <td>No</td>\n",
              "      <td>Yes</td>\n",
              "      <td>Month-to-month</td>\n",
              "      <td>No</td>\n",
              "      <td>Mailed check</td>\n",
              "      <td>59.9</td>\n",
              "      <td>542.4</td>\n",
              "    </tr>\n",
              "    <tr>\n",
              "      <th>2</th>\n",
              "      <td>0004-TLHLJ</td>\n",
              "      <td>Yes</td>\n",
              "      <td>Male</td>\n",
              "      <td>0</td>\n",
              "      <td>No</td>\n",
              "      <td>No</td>\n",
              "      <td>4</td>\n",
              "      <td>Yes</td>\n",
              "      <td>No</td>\n",
              "      <td>Fiber optic</td>\n",
              "      <td>No</td>\n",
              "      <td>No</td>\n",
              "      <td>Yes</td>\n",
              "      <td>No</td>\n",
              "      <td>No</td>\n",
              "      <td>No</td>\n",
              "      <td>Month-to-month</td>\n",
              "      <td>Yes</td>\n",
              "      <td>Electronic check</td>\n",
              "      <td>73.9</td>\n",
              "      <td>280.85</td>\n",
              "    </tr>\n",
              "    <tr>\n",
              "      <th>3</th>\n",
              "      <td>0011-IGKFF</td>\n",
              "      <td>Yes</td>\n",
              "      <td>Male</td>\n",
              "      <td>1</td>\n",
              "      <td>Yes</td>\n",
              "      <td>No</td>\n",
              "      <td>13</td>\n",
              "      <td>Yes</td>\n",
              "      <td>No</td>\n",
              "      <td>Fiber optic</td>\n",
              "      <td>No</td>\n",
              "      <td>Yes</td>\n",
              "      <td>Yes</td>\n",
              "      <td>No</td>\n",
              "      <td>Yes</td>\n",
              "      <td>Yes</td>\n",
              "      <td>Month-to-month</td>\n",
              "      <td>Yes</td>\n",
              "      <td>Electronic check</td>\n",
              "      <td>98.0</td>\n",
              "      <td>1237.85</td>\n",
              "    </tr>\n",
              "    <tr>\n",
              "      <th>4</th>\n",
              "      <td>0013-EXCHZ</td>\n",
              "      <td>Yes</td>\n",
              "      <td>Female</td>\n",
              "      <td>1</td>\n",
              "      <td>Yes</td>\n",
              "      <td>No</td>\n",
              "      <td>3</td>\n",
              "      <td>Yes</td>\n",
              "      <td>No</td>\n",
              "      <td>Fiber optic</td>\n",
              "      <td>No</td>\n",
              "      <td>No</td>\n",
              "      <td>No</td>\n",
              "      <td>Yes</td>\n",
              "      <td>Yes</td>\n",
              "      <td>No</td>\n",
              "      <td>Month-to-month</td>\n",
              "      <td>Yes</td>\n",
              "      <td>Mailed check</td>\n",
              "      <td>83.9</td>\n",
              "      <td>267.4</td>\n",
              "    </tr>\n",
              "  </tbody>\n",
              "</table>\n",
              "</div>"
            ],
            "text/plain": [
              "   customerID Churn  gender  SeniorCitizen Partner Dependents  tenure  \\\n",
              "0  0002-ORFBO    No  Female              0     Yes        Yes       9   \n",
              "1  0003-MKNFE    No    Male              0      No         No       9   \n",
              "2  0004-TLHLJ   Yes    Male              0      No         No       4   \n",
              "3  0011-IGKFF   Yes    Male              1     Yes         No      13   \n",
              "4  0013-EXCHZ   Yes  Female              1     Yes         No       3   \n",
              "\n",
              "  PhoneService MultipleLines InternetService OnlineSecurity OnlineBackup  \\\n",
              "0          Yes            No             DSL             No          Yes   \n",
              "1          Yes           Yes             DSL             No           No   \n",
              "2          Yes            No     Fiber optic             No           No   \n",
              "3          Yes            No     Fiber optic             No          Yes   \n",
              "4          Yes            No     Fiber optic             No           No   \n",
              "\n",
              "  DeviceProtection TechSupport StreamingTV StreamingMovies        Contract  \\\n",
              "0               No         Yes         Yes              No        One year   \n",
              "1               No          No          No             Yes  Month-to-month   \n",
              "2              Yes          No          No              No  Month-to-month   \n",
              "3              Yes          No         Yes             Yes  Month-to-month   \n",
              "4               No         Yes         Yes              No  Month-to-month   \n",
              "\n",
              "  PaperlessBilling     PaymentMethod  Charges.Monthly Charges.Total  \n",
              "0              Yes      Mailed check             65.6         593.3  \n",
              "1               No      Mailed check             59.9         542.4  \n",
              "2              Yes  Electronic check             73.9        280.85  \n",
              "3              Yes  Electronic check             98.0       1237.85  \n",
              "4              Yes      Mailed check             83.9         267.4  "
            ]
          },
          "execution_count": 11,
          "metadata": {},
          "output_type": "execute_result"
        }
      ],
      "source": [
        "dados_normalizados = normalizar(dados=dados)\n",
        "dados_normalizados.head()"
      ]
    },
    {
      "attachments": {},
      "cell_type": "markdown",
      "metadata": {
        "id": "Iss_IOE5NvM1"
      },
      "source": [
        "## Traduzindo colunas"
      ]
    },
    {
      "cell_type": "code",
      "execution_count": 12,
      "metadata": {
        "colab": {
          "base_uri": "https://localhost:8080/",
          "height": 211
        },
        "id": "lf-jeCSoNvM2",
        "outputId": "b06d5d20-7b85-4919-df56-a37d6b187124"
      },
      "outputs": [
        {
          "data": {
            "text/html": [
              "<div>\n",
              "<style scoped>\n",
              "    .dataframe tbody tr th:only-of-type {\n",
              "        vertical-align: middle;\n",
              "    }\n",
              "\n",
              "    .dataframe tbody tr th {\n",
              "        vertical-align: top;\n",
              "    }\n",
              "\n",
              "    .dataframe thead th {\n",
              "        text-align: right;\n",
              "    }\n",
              "</style>\n",
              "<table border=\"1\" class=\"dataframe\">\n",
              "  <thead>\n",
              "    <tr style=\"text-align: right;\">\n",
              "      <th></th>\n",
              "      <th>id_cliente</th>\n",
              "      <th>churn</th>\n",
              "      <th>genero</th>\n",
              "      <th>idoso</th>\n",
              "      <th>possui_parceiro</th>\n",
              "      <th>possui_dependentes</th>\n",
              "      <th>meses_contrato</th>\n",
              "      <th>assina_telefone</th>\n",
              "      <th>linhas_multiplas</th>\n",
              "      <th>aasinatura_provedor_internet</th>\n",
              "      <th>assinatura_seguranca</th>\n",
              "      <th>assinatura_backup</th>\n",
              "      <th>assinatura_protecao_dispositivo</th>\n",
              "      <th>assinatura_suporte_tecnico</th>\n",
              "      <th>assinatura_tv_cabo</th>\n",
              "      <th>assinatura_streaming_filmes</th>\n",
              "      <th>tipo_contrato</th>\n",
              "      <th>fatura_online</th>\n",
              "      <th>forma_pagamento</th>\n",
              "      <th>valor_fatura_mensal</th>\n",
              "      <th>valor_total_pago</th>\n",
              "    </tr>\n",
              "  </thead>\n",
              "  <tbody>\n",
              "    <tr>\n",
              "      <th>0</th>\n",
              "      <td>0002-ORFBO</td>\n",
              "      <td>No</td>\n",
              "      <td>Female</td>\n",
              "      <td>0</td>\n",
              "      <td>Yes</td>\n",
              "      <td>Yes</td>\n",
              "      <td>9</td>\n",
              "      <td>Yes</td>\n",
              "      <td>No</td>\n",
              "      <td>DSL</td>\n",
              "      <td>No</td>\n",
              "      <td>Yes</td>\n",
              "      <td>No</td>\n",
              "      <td>Yes</td>\n",
              "      <td>Yes</td>\n",
              "      <td>No</td>\n",
              "      <td>One year</td>\n",
              "      <td>Yes</td>\n",
              "      <td>Mailed check</td>\n",
              "      <td>65.6</td>\n",
              "      <td>593.3</td>\n",
              "    </tr>\n",
              "    <tr>\n",
              "      <th>1</th>\n",
              "      <td>0003-MKNFE</td>\n",
              "      <td>No</td>\n",
              "      <td>Male</td>\n",
              "      <td>0</td>\n",
              "      <td>No</td>\n",
              "      <td>No</td>\n",
              "      <td>9</td>\n",
              "      <td>Yes</td>\n",
              "      <td>Yes</td>\n",
              "      <td>DSL</td>\n",
              "      <td>No</td>\n",
              "      <td>No</td>\n",
              "      <td>No</td>\n",
              "      <td>No</td>\n",
              "      <td>No</td>\n",
              "      <td>Yes</td>\n",
              "      <td>Month-to-month</td>\n",
              "      <td>No</td>\n",
              "      <td>Mailed check</td>\n",
              "      <td>59.9</td>\n",
              "      <td>542.4</td>\n",
              "    </tr>\n",
              "  </tbody>\n",
              "</table>\n",
              "</div>"
            ],
            "text/plain": [
              "   id_cliente churn  genero  idoso possui_parceiro possui_dependentes  \\\n",
              "0  0002-ORFBO    No  Female      0             Yes                Yes   \n",
              "1  0003-MKNFE    No    Male      0              No                 No   \n",
              "\n",
              "   meses_contrato assina_telefone linhas_multiplas  \\\n",
              "0               9             Yes               No   \n",
              "1               9             Yes              Yes   \n",
              "\n",
              "  aasinatura_provedor_internet assinatura_seguranca assinatura_backup  \\\n",
              "0                          DSL                   No               Yes   \n",
              "1                          DSL                   No                No   \n",
              "\n",
              "  assinatura_protecao_dispositivo assinatura_suporte_tecnico  \\\n",
              "0                              No                        Yes   \n",
              "1                              No                         No   \n",
              "\n",
              "  assinatura_tv_cabo assinatura_streaming_filmes   tipo_contrato  \\\n",
              "0                Yes                          No        One year   \n",
              "1                 No                         Yes  Month-to-month   \n",
              "\n",
              "  fatura_online forma_pagamento  valor_fatura_mensal valor_total_pago  \n",
              "0           Yes    Mailed check                 65.6            593.3  \n",
              "1            No    Mailed check                 59.9            542.4  "
            ]
          },
          "execution_count": 12,
          "metadata": {},
          "output_type": "execute_result"
        }
      ],
      "source": [
        "rename = {\n",
        "    'customerID':'id_cliente',\n",
        "    'Churn':'churn',\n",
        "    'gender':'genero',\n",
        "    'SeniorCitizen':'idoso',\n",
        "    'Partner':'possui_parceiro',\n",
        "    'Dependents':'possui_dependentes',\n",
        "    'tenure':'meses_contrato',\n",
        "    'PhoneService':'assina_telefone',\n",
        "    'MultipleLines':'linhas_multiplas',\n",
        "    'InternetService':'aasinatura_provedor_internet',\n",
        "    'OnlineSecurity':'assinatura_seguranca',\n",
        "    'OnlineBackup':'assinatura_backup',\n",
        "    'DeviceProtection':'assinatura_protecao_dispositivo',\n",
        "    'TechSupport':'assinatura_suporte_tecnico', \n",
        "    'StreamingTV':'assinatura_tv_cabo', \n",
        "    'StreamingMovies':'assinatura_streaming_filmes',\n",
        "    'Contract':'tipo_contrato', \n",
        "    'PaperlessBilling':'fatura_online', \n",
        "    'PaymentMethod':'forma_pagamento', \n",
        "    'Charges.Monthly':'valor_fatura_mensal',\n",
        "    'Charges.Total':'valor_total_pago'\n",
        "}\n",
        "\n",
        "dados_normalizados = dados_normalizados.rename(columns=rename)\n",
        "dados_normalizados.head(2)"
      ]
    },
    {
      "attachments": {},
      "cell_type": "markdown",
      "metadata": {
        "id": "prKHVa-9NvM2"
      },
      "source": [
        "## Análise inconsistência nos dados"
      ]
    },
    {
      "cell_type": "code",
      "execution_count": 13,
      "metadata": {
        "colab": {
          "base_uri": "https://localhost:8080/"
        },
        "id": "77jvvKx2NvM2",
        "outputId": "d5705241-84a9-4495-b9c4-91f8564abe0e"
      },
      "outputs": [
        {
          "name": "stdout",
          "output_type": "stream",
          "text": [
            "<class 'pandas.core.frame.DataFrame'>\n",
            "RangeIndex: 7043 entries, 0 to 7042\n",
            "Data columns (total 21 columns):\n",
            " #   Column                           Non-Null Count  Dtype  \n",
            "---  ------                           --------------  -----  \n",
            " 0   id_cliente                       7043 non-null   object \n",
            " 1   churn                            7043 non-null   object \n",
            " 2   genero                           7043 non-null   object \n",
            " 3   idoso                            7043 non-null   int64  \n",
            " 4   possui_parceiro                  7043 non-null   object \n",
            " 5   possui_dependentes               7043 non-null   object \n",
            " 6   meses_contrato                   7043 non-null   int64  \n",
            " 7   assina_telefone                  7043 non-null   object \n",
            " 8   linhas_multiplas                 7043 non-null   object \n",
            " 9   aasinatura_provedor_internet     7043 non-null   object \n",
            " 10  assinatura_seguranca             7043 non-null   object \n",
            " 11  assinatura_backup                7043 non-null   object \n",
            " 12  assinatura_protecao_dispositivo  7043 non-null   object \n",
            " 13  assinatura_suporte_tecnico       7043 non-null   object \n",
            " 14  assinatura_tv_cabo               7043 non-null   object \n",
            " 15  assinatura_streaming_filmes      7043 non-null   object \n",
            " 16  tipo_contrato                    7043 non-null   object \n",
            " 17  fatura_online                    7043 non-null   object \n",
            " 18  forma_pagamento                  7043 non-null   object \n",
            " 19  valor_fatura_mensal              7043 non-null   float64\n",
            " 20  valor_total_pago                 7043 non-null   object \n",
            "dtypes: float64(1), int64(2), object(18)\n",
            "memory usage: 1.1+ MB\n"
          ]
        }
      ],
      "source": [
        "dados_normalizados.info()"
      ]
    },
    {
      "cell_type": "code",
      "execution_count": 14,
      "metadata": {
        "colab": {
          "base_uri": "https://localhost:8080/"
        },
        "id": "F0D6AWrzNvM2",
        "outputId": "166ee0a7-c25c-4f95-af2d-83f00fc6b774"
      },
      "outputs": [
        {
          "name": "stdout",
          "output_type": "stream",
          "text": [
            "0002-ORFBO    1\n",
            "6616-AALSR    1\n",
            "6625-UTXEW    1\n",
            "6625-IUTTT    1\n",
            "6625-FLENO    1\n",
            "             ..\n",
            "3352-RICWQ    1\n",
            "3352-ALMCK    1\n",
            "3351-NQLDI    1\n",
            "3351-NGXYI    1\n",
            "9995-HOTOH    1\n",
            "Name: id_cliente, Length: 7043, dtype: int64\n",
            "---------------------------------------\n",
            "No     5174\n",
            "Yes    1869\n",
            "Name: churn, dtype: int64\n",
            "---------------------------------------\n",
            "Male      3555\n",
            "Female    3488\n",
            "Name: genero, dtype: int64\n",
            "---------------------------------------\n",
            "0    5901\n",
            "1    1142\n",
            "Name: idoso, dtype: int64\n",
            "---------------------------------------\n",
            "No     3641\n",
            "Yes    3402\n",
            "Name: possui_parceiro, dtype: int64\n",
            "---------------------------------------\n",
            "No     4933\n",
            "Yes    2110\n",
            "Name: possui_dependentes, dtype: int64\n",
            "---------------------------------------\n",
            "1     613\n",
            "72    362\n",
            "2     238\n",
            "3     200\n",
            "4     176\n",
            "71    170\n",
            "5     133\n",
            "7     131\n",
            "8     123\n",
            "9     119\n",
            "70    119\n",
            "12    117\n",
            "10    116\n",
            "6     110\n",
            "13    109\n",
            "68    100\n",
            "15     99\n",
            "11     99\n",
            "67     98\n",
            "18     97\n",
            "69     95\n",
            "24     94\n",
            "22     90\n",
            "66     89\n",
            "35     88\n",
            "17     87\n",
            "23     85\n",
            "16     80\n",
            "56     80\n",
            "52     80\n",
            "64     80\n",
            "25     79\n",
            "26     79\n",
            "14     76\n",
            "65     76\n",
            "61     76\n",
            "60     76\n",
            "46     74\n",
            "19     73\n",
            "27     72\n",
            "29     72\n",
            "30     72\n",
            "63     72\n",
            "20     71\n",
            "53     70\n",
            "62     70\n",
            "41     70\n",
            "32     69\n",
            "50     68\n",
            "54     68\n",
            "47     68\n",
            "51     68\n",
            "58     67\n",
            "49     66\n",
            "31     65\n",
            "43     65\n",
            "42     65\n",
            "34     65\n",
            "57     65\n",
            "37     65\n",
            "40     64\n",
            "48     64\n",
            "33     64\n",
            "55     64\n",
            "21     63\n",
            "45     61\n",
            "59     60\n",
            "38     59\n",
            "28     57\n",
            "39     56\n",
            "44     51\n",
            "36     50\n",
            "0      11\n",
            "Name: meses_contrato, dtype: int64\n",
            "---------------------------------------\n",
            "Yes    6361\n",
            "No      682\n",
            "Name: assina_telefone, dtype: int64\n",
            "---------------------------------------\n",
            "No                  3390\n",
            "Yes                 2971\n",
            "No phone service     682\n",
            "Name: linhas_multiplas, dtype: int64\n",
            "---------------------------------------\n",
            "Fiber optic    3096\n",
            "DSL            2421\n",
            "No             1526\n",
            "Name: aasinatura_provedor_internet, dtype: int64\n",
            "---------------------------------------\n",
            "No                     3498\n",
            "Yes                    2019\n",
            "No internet service    1526\n",
            "Name: assinatura_seguranca, dtype: int64\n",
            "---------------------------------------\n",
            "No                     3088\n",
            "Yes                    2429\n",
            "No internet service    1526\n",
            "Name: assinatura_backup, dtype: int64\n",
            "---------------------------------------\n",
            "No                     3095\n",
            "Yes                    2422\n",
            "No internet service    1526\n",
            "Name: assinatura_protecao_dispositivo, dtype: int64\n",
            "---------------------------------------\n",
            "No                     3473\n",
            "Yes                    2044\n",
            "No internet service    1526\n",
            "Name: assinatura_suporte_tecnico, dtype: int64\n",
            "---------------------------------------\n",
            "No                     2810\n",
            "Yes                    2707\n",
            "No internet service    1526\n",
            "Name: assinatura_tv_cabo, dtype: int64\n",
            "---------------------------------------\n",
            "No                     2785\n",
            "Yes                    2732\n",
            "No internet service    1526\n",
            "Name: assinatura_streaming_filmes, dtype: int64\n",
            "---------------------------------------\n",
            "Month-to-month    3875\n",
            "Two year          1695\n",
            "One year          1473\n",
            "Name: tipo_contrato, dtype: int64\n",
            "---------------------------------------\n",
            "Yes    4171\n",
            "No     2872\n",
            "Name: fatura_online, dtype: int64\n",
            "---------------------------------------\n",
            "Electronic check             2365\n",
            "Mailed check                 1612\n",
            "Bank transfer (automatic)    1544\n",
            "Credit card (automatic)      1522\n",
            "Name: forma_pagamento, dtype: int64\n",
            "---------------------------------------\n",
            "20.05     61\n",
            "19.85     45\n",
            "19.95     44\n",
            "19.90     44\n",
            "20.00     43\n",
            "          ..\n",
            "116.55     1\n",
            "106.85     1\n",
            "68.55      1\n",
            "108.80     1\n",
            "67.85      1\n",
            "Name: valor_fatura_mensal, Length: 1585, dtype: int64\n",
            "---------------------------------------\n",
            "           11\n",
            "20.2       11\n",
            "19.75       9\n",
            "19.9        8\n",
            "20.05       8\n",
            "           ..\n",
            "2387.75     1\n",
            "6302.8      1\n",
            "2058.5      1\n",
            "829.55      1\n",
            "3707.6      1\n",
            "Name: valor_total_pago, Length: 6531, dtype: int64\n",
            "---------------------------------------\n"
          ]
        }
      ],
      "source": [
        "for coluna in dados_normalizados.columns:\n",
        "    print(dados_normalizados[coluna].value_counts())\n",
        "    print('---------------------------------------')"
      ]
    },
    {
      "attachments": {},
      "cell_type": "markdown",
      "metadata": {
        "id": "EXKlZdPZvCFd"
      },
      "source": [
        "A variável valor_total_pago possui 11 ocorrências sem labels."
      ]
    },
    {
      "cell_type": "code",
      "execution_count": 15,
      "metadata": {
        "colab": {
          "base_uri": "https://localhost:8080/",
          "height": 649
        },
        "id": "-vmvIp1jvKSV",
        "outputId": "7b6dc374-2d38-4078-b17a-bbf23054dfad"
      },
      "outputs": [
        {
          "data": {
            "text/html": [
              "<div>\n",
              "<style scoped>\n",
              "    .dataframe tbody tr th:only-of-type {\n",
              "        vertical-align: middle;\n",
              "    }\n",
              "\n",
              "    .dataframe tbody tr th {\n",
              "        vertical-align: top;\n",
              "    }\n",
              "\n",
              "    .dataframe thead th {\n",
              "        text-align: right;\n",
              "    }\n",
              "</style>\n",
              "<table border=\"1\" class=\"dataframe\">\n",
              "  <thead>\n",
              "    <tr style=\"text-align: right;\">\n",
              "      <th></th>\n",
              "      <th>id_cliente</th>\n",
              "      <th>churn</th>\n",
              "      <th>genero</th>\n",
              "      <th>idoso</th>\n",
              "      <th>possui_parceiro</th>\n",
              "      <th>possui_dependentes</th>\n",
              "      <th>meses_contrato</th>\n",
              "      <th>assina_telefone</th>\n",
              "      <th>linhas_multiplas</th>\n",
              "      <th>aasinatura_provedor_internet</th>\n",
              "      <th>assinatura_seguranca</th>\n",
              "      <th>assinatura_backup</th>\n",
              "      <th>assinatura_protecao_dispositivo</th>\n",
              "      <th>assinatura_suporte_tecnico</th>\n",
              "      <th>assinatura_tv_cabo</th>\n",
              "      <th>assinatura_streaming_filmes</th>\n",
              "      <th>tipo_contrato</th>\n",
              "      <th>fatura_online</th>\n",
              "      <th>forma_pagamento</th>\n",
              "      <th>valor_fatura_mensal</th>\n",
              "      <th>valor_total_pago</th>\n",
              "    </tr>\n",
              "  </thead>\n",
              "  <tbody>\n",
              "    <tr>\n",
              "      <th>945</th>\n",
              "      <td>1371-DWPAZ</td>\n",
              "      <td>No</td>\n",
              "      <td>Female</td>\n",
              "      <td>0</td>\n",
              "      <td>Yes</td>\n",
              "      <td>Yes</td>\n",
              "      <td>0</td>\n",
              "      <td>No</td>\n",
              "      <td>No phone service</td>\n",
              "      <td>DSL</td>\n",
              "      <td>Yes</td>\n",
              "      <td>Yes</td>\n",
              "      <td>Yes</td>\n",
              "      <td>Yes</td>\n",
              "      <td>Yes</td>\n",
              "      <td>No</td>\n",
              "      <td>Two year</td>\n",
              "      <td>No</td>\n",
              "      <td>Credit card (automatic)</td>\n",
              "      <td>56.05</td>\n",
              "      <td></td>\n",
              "    </tr>\n",
              "    <tr>\n",
              "      <th>1731</th>\n",
              "      <td>2520-SGTTA</td>\n",
              "      <td>No</td>\n",
              "      <td>Female</td>\n",
              "      <td>0</td>\n",
              "      <td>Yes</td>\n",
              "      <td>Yes</td>\n",
              "      <td>0</td>\n",
              "      <td>Yes</td>\n",
              "      <td>No</td>\n",
              "      <td>No</td>\n",
              "      <td>No internet service</td>\n",
              "      <td>No internet service</td>\n",
              "      <td>No internet service</td>\n",
              "      <td>No internet service</td>\n",
              "      <td>No internet service</td>\n",
              "      <td>No internet service</td>\n",
              "      <td>Two year</td>\n",
              "      <td>No</td>\n",
              "      <td>Mailed check</td>\n",
              "      <td>20.00</td>\n",
              "      <td></td>\n",
              "    </tr>\n",
              "    <tr>\n",
              "      <th>1906</th>\n",
              "      <td>2775-SEFEE</td>\n",
              "      <td>No</td>\n",
              "      <td>Male</td>\n",
              "      <td>0</td>\n",
              "      <td>No</td>\n",
              "      <td>Yes</td>\n",
              "      <td>0</td>\n",
              "      <td>Yes</td>\n",
              "      <td>Yes</td>\n",
              "      <td>DSL</td>\n",
              "      <td>Yes</td>\n",
              "      <td>Yes</td>\n",
              "      <td>No</td>\n",
              "      <td>Yes</td>\n",
              "      <td>No</td>\n",
              "      <td>No</td>\n",
              "      <td>Two year</td>\n",
              "      <td>Yes</td>\n",
              "      <td>Bank transfer (automatic)</td>\n",
              "      <td>61.90</td>\n",
              "      <td></td>\n",
              "    </tr>\n",
              "    <tr>\n",
              "      <th>2025</th>\n",
              "      <td>2923-ARZLG</td>\n",
              "      <td>No</td>\n",
              "      <td>Male</td>\n",
              "      <td>0</td>\n",
              "      <td>Yes</td>\n",
              "      <td>Yes</td>\n",
              "      <td>0</td>\n",
              "      <td>Yes</td>\n",
              "      <td>No</td>\n",
              "      <td>No</td>\n",
              "      <td>No internet service</td>\n",
              "      <td>No internet service</td>\n",
              "      <td>No internet service</td>\n",
              "      <td>No internet service</td>\n",
              "      <td>No internet service</td>\n",
              "      <td>No internet service</td>\n",
              "      <td>One year</td>\n",
              "      <td>Yes</td>\n",
              "      <td>Mailed check</td>\n",
              "      <td>19.70</td>\n",
              "      <td></td>\n",
              "    </tr>\n",
              "    <tr>\n",
              "      <th>2176</th>\n",
              "      <td>3115-CZMZD</td>\n",
              "      <td>No</td>\n",
              "      <td>Male</td>\n",
              "      <td>0</td>\n",
              "      <td>No</td>\n",
              "      <td>Yes</td>\n",
              "      <td>0</td>\n",
              "      <td>Yes</td>\n",
              "      <td>No</td>\n",
              "      <td>No</td>\n",
              "      <td>No internet service</td>\n",
              "      <td>No internet service</td>\n",
              "      <td>No internet service</td>\n",
              "      <td>No internet service</td>\n",
              "      <td>No internet service</td>\n",
              "      <td>No internet service</td>\n",
              "      <td>Two year</td>\n",
              "      <td>No</td>\n",
              "      <td>Mailed check</td>\n",
              "      <td>20.25</td>\n",
              "      <td></td>\n",
              "    </tr>\n",
              "    <tr>\n",
              "      <th>2250</th>\n",
              "      <td>3213-VVOLG</td>\n",
              "      <td>No</td>\n",
              "      <td>Male</td>\n",
              "      <td>0</td>\n",
              "      <td>Yes</td>\n",
              "      <td>Yes</td>\n",
              "      <td>0</td>\n",
              "      <td>Yes</td>\n",
              "      <td>Yes</td>\n",
              "      <td>No</td>\n",
              "      <td>No internet service</td>\n",
              "      <td>No internet service</td>\n",
              "      <td>No internet service</td>\n",
              "      <td>No internet service</td>\n",
              "      <td>No internet service</td>\n",
              "      <td>No internet service</td>\n",
              "      <td>Two year</td>\n",
              "      <td>No</td>\n",
              "      <td>Mailed check</td>\n",
              "      <td>25.35</td>\n",
              "      <td></td>\n",
              "    </tr>\n",
              "    <tr>\n",
              "      <th>2855</th>\n",
              "      <td>4075-WKNIU</td>\n",
              "      <td>No</td>\n",
              "      <td>Female</td>\n",
              "      <td>0</td>\n",
              "      <td>Yes</td>\n",
              "      <td>Yes</td>\n",
              "      <td>0</td>\n",
              "      <td>Yes</td>\n",
              "      <td>Yes</td>\n",
              "      <td>DSL</td>\n",
              "      <td>No</td>\n",
              "      <td>Yes</td>\n",
              "      <td>Yes</td>\n",
              "      <td>Yes</td>\n",
              "      <td>Yes</td>\n",
              "      <td>No</td>\n",
              "      <td>Two year</td>\n",
              "      <td>No</td>\n",
              "      <td>Mailed check</td>\n",
              "      <td>73.35</td>\n",
              "      <td></td>\n",
              "    </tr>\n",
              "    <tr>\n",
              "      <th>3052</th>\n",
              "      <td>4367-NUYAO</td>\n",
              "      <td>No</td>\n",
              "      <td>Male</td>\n",
              "      <td>0</td>\n",
              "      <td>Yes</td>\n",
              "      <td>Yes</td>\n",
              "      <td>0</td>\n",
              "      <td>Yes</td>\n",
              "      <td>Yes</td>\n",
              "      <td>No</td>\n",
              "      <td>No internet service</td>\n",
              "      <td>No internet service</td>\n",
              "      <td>No internet service</td>\n",
              "      <td>No internet service</td>\n",
              "      <td>No internet service</td>\n",
              "      <td>No internet service</td>\n",
              "      <td>Two year</td>\n",
              "      <td>No</td>\n",
              "      <td>Mailed check</td>\n",
              "      <td>25.75</td>\n",
              "      <td></td>\n",
              "    </tr>\n",
              "    <tr>\n",
              "      <th>3118</th>\n",
              "      <td>4472-LVYGI</td>\n",
              "      <td>No</td>\n",
              "      <td>Female</td>\n",
              "      <td>0</td>\n",
              "      <td>Yes</td>\n",
              "      <td>Yes</td>\n",
              "      <td>0</td>\n",
              "      <td>No</td>\n",
              "      <td>No phone service</td>\n",
              "      <td>DSL</td>\n",
              "      <td>Yes</td>\n",
              "      <td>No</td>\n",
              "      <td>Yes</td>\n",
              "      <td>Yes</td>\n",
              "      <td>Yes</td>\n",
              "      <td>No</td>\n",
              "      <td>Two year</td>\n",
              "      <td>Yes</td>\n",
              "      <td>Bank transfer (automatic)</td>\n",
              "      <td>52.55</td>\n",
              "      <td></td>\n",
              "    </tr>\n",
              "    <tr>\n",
              "      <th>4054</th>\n",
              "      <td>5709-LVOEQ</td>\n",
              "      <td>No</td>\n",
              "      <td>Female</td>\n",
              "      <td>0</td>\n",
              "      <td>Yes</td>\n",
              "      <td>Yes</td>\n",
              "      <td>0</td>\n",
              "      <td>Yes</td>\n",
              "      <td>No</td>\n",
              "      <td>DSL</td>\n",
              "      <td>Yes</td>\n",
              "      <td>Yes</td>\n",
              "      <td>Yes</td>\n",
              "      <td>No</td>\n",
              "      <td>Yes</td>\n",
              "      <td>Yes</td>\n",
              "      <td>Two year</td>\n",
              "      <td>No</td>\n",
              "      <td>Mailed check</td>\n",
              "      <td>80.85</td>\n",
              "      <td></td>\n",
              "    </tr>\n",
              "    <tr>\n",
              "      <th>5433</th>\n",
              "      <td>7644-OMVMY</td>\n",
              "      <td>No</td>\n",
              "      <td>Male</td>\n",
              "      <td>0</td>\n",
              "      <td>Yes</td>\n",
              "      <td>Yes</td>\n",
              "      <td>0</td>\n",
              "      <td>Yes</td>\n",
              "      <td>No</td>\n",
              "      <td>No</td>\n",
              "      <td>No internet service</td>\n",
              "      <td>No internet service</td>\n",
              "      <td>No internet service</td>\n",
              "      <td>No internet service</td>\n",
              "      <td>No internet service</td>\n",
              "      <td>No internet service</td>\n",
              "      <td>Two year</td>\n",
              "      <td>No</td>\n",
              "      <td>Mailed check</td>\n",
              "      <td>19.85</td>\n",
              "      <td></td>\n",
              "    </tr>\n",
              "  </tbody>\n",
              "</table>\n",
              "</div>"
            ],
            "text/plain": [
              "      id_cliente churn  genero  idoso possui_parceiro possui_dependentes  \\\n",
              "945   1371-DWPAZ    No  Female      0             Yes                Yes   \n",
              "1731  2520-SGTTA    No  Female      0             Yes                Yes   \n",
              "1906  2775-SEFEE    No    Male      0              No                Yes   \n",
              "2025  2923-ARZLG    No    Male      0             Yes                Yes   \n",
              "2176  3115-CZMZD    No    Male      0              No                Yes   \n",
              "2250  3213-VVOLG    No    Male      0             Yes                Yes   \n",
              "2855  4075-WKNIU    No  Female      0             Yes                Yes   \n",
              "3052  4367-NUYAO    No    Male      0             Yes                Yes   \n",
              "3118  4472-LVYGI    No  Female      0             Yes                Yes   \n",
              "4054  5709-LVOEQ    No  Female      0             Yes                Yes   \n",
              "5433  7644-OMVMY    No    Male      0             Yes                Yes   \n",
              "\n",
              "      meses_contrato assina_telefone  linhas_multiplas  \\\n",
              "945                0              No  No phone service   \n",
              "1731               0             Yes                No   \n",
              "1906               0             Yes               Yes   \n",
              "2025               0             Yes                No   \n",
              "2176               0             Yes                No   \n",
              "2250               0             Yes               Yes   \n",
              "2855               0             Yes               Yes   \n",
              "3052               0             Yes               Yes   \n",
              "3118               0              No  No phone service   \n",
              "4054               0             Yes                No   \n",
              "5433               0             Yes                No   \n",
              "\n",
              "     aasinatura_provedor_internet assinatura_seguranca    assinatura_backup  \\\n",
              "945                           DSL                  Yes                  Yes   \n",
              "1731                           No  No internet service  No internet service   \n",
              "1906                          DSL                  Yes                  Yes   \n",
              "2025                           No  No internet service  No internet service   \n",
              "2176                           No  No internet service  No internet service   \n",
              "2250                           No  No internet service  No internet service   \n",
              "2855                          DSL                   No                  Yes   \n",
              "3052                           No  No internet service  No internet service   \n",
              "3118                          DSL                  Yes                   No   \n",
              "4054                          DSL                  Yes                  Yes   \n",
              "5433                           No  No internet service  No internet service   \n",
              "\n",
              "     assinatura_protecao_dispositivo assinatura_suporte_tecnico  \\\n",
              "945                              Yes                        Yes   \n",
              "1731             No internet service        No internet service   \n",
              "1906                              No                        Yes   \n",
              "2025             No internet service        No internet service   \n",
              "2176             No internet service        No internet service   \n",
              "2250             No internet service        No internet service   \n",
              "2855                             Yes                        Yes   \n",
              "3052             No internet service        No internet service   \n",
              "3118                             Yes                        Yes   \n",
              "4054                             Yes                         No   \n",
              "5433             No internet service        No internet service   \n",
              "\n",
              "       assinatura_tv_cabo assinatura_streaming_filmes tipo_contrato  \\\n",
              "945                   Yes                          No      Two year   \n",
              "1731  No internet service         No internet service      Two year   \n",
              "1906                   No                          No      Two year   \n",
              "2025  No internet service         No internet service      One year   \n",
              "2176  No internet service         No internet service      Two year   \n",
              "2250  No internet service         No internet service      Two year   \n",
              "2855                  Yes                          No      Two year   \n",
              "3052  No internet service         No internet service      Two year   \n",
              "3118                  Yes                          No      Two year   \n",
              "4054                  Yes                         Yes      Two year   \n",
              "5433  No internet service         No internet service      Two year   \n",
              "\n",
              "     fatura_online            forma_pagamento  valor_fatura_mensal  \\\n",
              "945             No    Credit card (automatic)                56.05   \n",
              "1731            No               Mailed check                20.00   \n",
              "1906           Yes  Bank transfer (automatic)                61.90   \n",
              "2025           Yes               Mailed check                19.70   \n",
              "2176            No               Mailed check                20.25   \n",
              "2250            No               Mailed check                25.35   \n",
              "2855            No               Mailed check                73.35   \n",
              "3052            No               Mailed check                25.75   \n",
              "3118           Yes  Bank transfer (automatic)                52.55   \n",
              "4054            No               Mailed check                80.85   \n",
              "5433            No               Mailed check                19.85   \n",
              "\n",
              "     valor_total_pago  \n",
              "945                    \n",
              "1731                   \n",
              "1906                   \n",
              "2025                   \n",
              "2176                   \n",
              "2250                   \n",
              "2855                   \n",
              "3052                   \n",
              "3118                   \n",
              "4054                   \n",
              "5433                   "
            ]
          },
          "execution_count": 15,
          "metadata": {},
          "output_type": "execute_result"
        }
      ],
      "source": [
        "dados_normalizados.query(\"valor_total_pago == ' '\")"
      ]
    },
    {
      "attachments": {},
      "cell_type": "markdown",
      "metadata": {
        "id": "HY9EavDVwlLA"
      },
      "source": [
        "Nota-se que a coluna meses_contrato é igual 0 para os casos filtrados, portanto são clientes que ainda não pagaram nenhum valor à empresa."
      ]
    },
    {
      "cell_type": "code",
      "execution_count": 16,
      "metadata": {
        "colab": {
          "base_uri": "https://localhost:8080/",
          "height": 394
        },
        "id": "hUwUpfS9xY-6",
        "outputId": "2d7b427b-dfee-4f6b-86b6-c5f737ea2e11"
      },
      "outputs": [
        {
          "data": {
            "text/html": [
              "<div>\n",
              "<style scoped>\n",
              "    .dataframe tbody tr th:only-of-type {\n",
              "        vertical-align: middle;\n",
              "    }\n",
              "\n",
              "    .dataframe tbody tr th {\n",
              "        vertical-align: top;\n",
              "    }\n",
              "\n",
              "    .dataframe thead th {\n",
              "        text-align: right;\n",
              "    }\n",
              "</style>\n",
              "<table border=\"1\" class=\"dataframe\">\n",
              "  <thead>\n",
              "    <tr style=\"text-align: right;\">\n",
              "      <th></th>\n",
              "      <th>meses_contrato</th>\n",
              "      <th>valor_fatura_mensal</th>\n",
              "      <th>valor_total_pago</th>\n",
              "    </tr>\n",
              "  </thead>\n",
              "  <tbody>\n",
              "    <tr>\n",
              "      <th>945</th>\n",
              "      <td>0</td>\n",
              "      <td>56.05</td>\n",
              "      <td></td>\n",
              "    </tr>\n",
              "    <tr>\n",
              "      <th>1731</th>\n",
              "      <td>0</td>\n",
              "      <td>20.00</td>\n",
              "      <td></td>\n",
              "    </tr>\n",
              "    <tr>\n",
              "      <th>1906</th>\n",
              "      <td>0</td>\n",
              "      <td>61.90</td>\n",
              "      <td></td>\n",
              "    </tr>\n",
              "    <tr>\n",
              "      <th>2025</th>\n",
              "      <td>0</td>\n",
              "      <td>19.70</td>\n",
              "      <td></td>\n",
              "    </tr>\n",
              "    <tr>\n",
              "      <th>2176</th>\n",
              "      <td>0</td>\n",
              "      <td>20.25</td>\n",
              "      <td></td>\n",
              "    </tr>\n",
              "    <tr>\n",
              "      <th>2250</th>\n",
              "      <td>0</td>\n",
              "      <td>25.35</td>\n",
              "      <td></td>\n",
              "    </tr>\n",
              "    <tr>\n",
              "      <th>2855</th>\n",
              "      <td>0</td>\n",
              "      <td>73.35</td>\n",
              "      <td></td>\n",
              "    </tr>\n",
              "    <tr>\n",
              "      <th>3052</th>\n",
              "      <td>0</td>\n",
              "      <td>25.75</td>\n",
              "      <td></td>\n",
              "    </tr>\n",
              "    <tr>\n",
              "      <th>3118</th>\n",
              "      <td>0</td>\n",
              "      <td>52.55</td>\n",
              "      <td></td>\n",
              "    </tr>\n",
              "    <tr>\n",
              "      <th>4054</th>\n",
              "      <td>0</td>\n",
              "      <td>80.85</td>\n",
              "      <td></td>\n",
              "    </tr>\n",
              "    <tr>\n",
              "      <th>5433</th>\n",
              "      <td>0</td>\n",
              "      <td>19.85</td>\n",
              "      <td></td>\n",
              "    </tr>\n",
              "  </tbody>\n",
              "</table>\n",
              "</div>"
            ],
            "text/plain": [
              "      meses_contrato  valor_fatura_mensal valor_total_pago\n",
              "945                0                56.05                 \n",
              "1731               0                20.00                 \n",
              "1906               0                61.90                 \n",
              "2025               0                19.70                 \n",
              "2176               0                20.25                 \n",
              "2250               0                25.35                 \n",
              "2855               0                73.35                 \n",
              "3052               0                25.75                 \n",
              "3118               0                52.55                 \n",
              "4054               0                80.85                 \n",
              "5433               0                19.85                 "
            ]
          },
          "execution_count": 16,
          "metadata": {},
          "output_type": "execute_result"
        }
      ],
      "source": [
        "# Filtrando valor_total_pago vazio\n",
        "dados_normalizados.query(\"valor_total_pago == ' '\")[['meses_contrato', 'valor_fatura_mensal', 'valor_total_pago']]"
      ]
    },
    {
      "cell_type": "code",
      "execution_count": 17,
      "metadata": {
        "colab": {
          "base_uri": "https://localhost:8080/",
          "height": 394
        },
        "id": "YCkj13SPxvK_",
        "outputId": "1c04d84d-58cf-4a8a-b5b6-1f1fa4554462"
      },
      "outputs": [
        {
          "data": {
            "text/html": [
              "<div>\n",
              "<style scoped>\n",
              "    .dataframe tbody tr th:only-of-type {\n",
              "        vertical-align: middle;\n",
              "    }\n",
              "\n",
              "    .dataframe tbody tr th {\n",
              "        vertical-align: top;\n",
              "    }\n",
              "\n",
              "    .dataframe thead th {\n",
              "        text-align: right;\n",
              "    }\n",
              "</style>\n",
              "<table border=\"1\" class=\"dataframe\">\n",
              "  <thead>\n",
              "    <tr style=\"text-align: right;\">\n",
              "      <th></th>\n",
              "      <th>meses_contrato</th>\n",
              "      <th>valor_fatura_mensal</th>\n",
              "      <th>valor_total_pago</th>\n",
              "    </tr>\n",
              "  </thead>\n",
              "  <tbody>\n",
              "    <tr>\n",
              "      <th>945</th>\n",
              "      <td>0</td>\n",
              "      <td>56.05</td>\n",
              "      <td></td>\n",
              "    </tr>\n",
              "    <tr>\n",
              "      <th>1731</th>\n",
              "      <td>0</td>\n",
              "      <td>20.00</td>\n",
              "      <td></td>\n",
              "    </tr>\n",
              "    <tr>\n",
              "      <th>1906</th>\n",
              "      <td>0</td>\n",
              "      <td>61.90</td>\n",
              "      <td></td>\n",
              "    </tr>\n",
              "    <tr>\n",
              "      <th>2025</th>\n",
              "      <td>0</td>\n",
              "      <td>19.70</td>\n",
              "      <td></td>\n",
              "    </tr>\n",
              "    <tr>\n",
              "      <th>2176</th>\n",
              "      <td>0</td>\n",
              "      <td>20.25</td>\n",
              "      <td></td>\n",
              "    </tr>\n",
              "    <tr>\n",
              "      <th>2250</th>\n",
              "      <td>0</td>\n",
              "      <td>25.35</td>\n",
              "      <td></td>\n",
              "    </tr>\n",
              "    <tr>\n",
              "      <th>2855</th>\n",
              "      <td>0</td>\n",
              "      <td>73.35</td>\n",
              "      <td></td>\n",
              "    </tr>\n",
              "    <tr>\n",
              "      <th>3052</th>\n",
              "      <td>0</td>\n",
              "      <td>25.75</td>\n",
              "      <td></td>\n",
              "    </tr>\n",
              "    <tr>\n",
              "      <th>3118</th>\n",
              "      <td>0</td>\n",
              "      <td>52.55</td>\n",
              "      <td></td>\n",
              "    </tr>\n",
              "    <tr>\n",
              "      <th>4054</th>\n",
              "      <td>0</td>\n",
              "      <td>80.85</td>\n",
              "      <td></td>\n",
              "    </tr>\n",
              "    <tr>\n",
              "      <th>5433</th>\n",
              "      <td>0</td>\n",
              "      <td>19.85</td>\n",
              "      <td></td>\n",
              "    </tr>\n",
              "  </tbody>\n",
              "</table>\n",
              "</div>"
            ],
            "text/plain": [
              "      meses_contrato  valor_fatura_mensal valor_total_pago\n",
              "945                0                56.05                 \n",
              "1731               0                20.00                 \n",
              "1906               0                61.90                 \n",
              "2025               0                19.70                 \n",
              "2176               0                20.25                 \n",
              "2250               0                25.35                 \n",
              "2855               0                73.35                 \n",
              "3052               0                25.75                 \n",
              "3118               0                52.55                 \n",
              "4054               0                80.85                 \n",
              "5433               0                19.85                 "
            ]
          },
          "execution_count": 17,
          "metadata": {},
          "output_type": "execute_result"
        }
      ],
      "source": [
        "# Filtrando meses_contrato igual a zero\n",
        "dados_normalizados.query(\"meses_contrato == 0\")[['meses_contrato', 'valor_fatura_mensal', 'valor_total_pago']]"
      ]
    },
    {
      "attachments": {},
      "cell_type": "markdown",
      "metadata": {
        "id": "Dzf3zsJ-yRuc"
      },
      "source": [
        "Como as condições retornam o mesmo resultado, podemos preencher o valor_total_pago com o valor_fatura_mensal, para meses_contrato igual a zero."
      ]
    },
    {
      "cell_type": "code",
      "execution_count": 18,
      "metadata": {
        "colab": {
          "base_uri": "https://localhost:8080/",
          "height": 394
        },
        "id": "rVr9yw1SyvVk",
        "outputId": "d5af3443-60f9-4e7e-895c-299a2f94d86a"
      },
      "outputs": [
        {
          "data": {
            "text/html": [
              "<div>\n",
              "<style scoped>\n",
              "    .dataframe tbody tr th:only-of-type {\n",
              "        vertical-align: middle;\n",
              "    }\n",
              "\n",
              "    .dataframe tbody tr th {\n",
              "        vertical-align: top;\n",
              "    }\n",
              "\n",
              "    .dataframe thead th {\n",
              "        text-align: right;\n",
              "    }\n",
              "</style>\n",
              "<table border=\"1\" class=\"dataframe\">\n",
              "  <thead>\n",
              "    <tr style=\"text-align: right;\">\n",
              "      <th></th>\n",
              "      <th>meses_contrato</th>\n",
              "      <th>valor_fatura_mensal</th>\n",
              "      <th>valor_total_pago</th>\n",
              "    </tr>\n",
              "  </thead>\n",
              "  <tbody>\n",
              "    <tr>\n",
              "      <th>945</th>\n",
              "      <td>0</td>\n",
              "      <td>56.05</td>\n",
              "      <td>0</td>\n",
              "    </tr>\n",
              "    <tr>\n",
              "      <th>1731</th>\n",
              "      <td>0</td>\n",
              "      <td>20.00</td>\n",
              "      <td>0</td>\n",
              "    </tr>\n",
              "    <tr>\n",
              "      <th>1906</th>\n",
              "      <td>0</td>\n",
              "      <td>61.90</td>\n",
              "      <td>0</td>\n",
              "    </tr>\n",
              "    <tr>\n",
              "      <th>2025</th>\n",
              "      <td>0</td>\n",
              "      <td>19.70</td>\n",
              "      <td>0</td>\n",
              "    </tr>\n",
              "    <tr>\n",
              "      <th>2176</th>\n",
              "      <td>0</td>\n",
              "      <td>20.25</td>\n",
              "      <td>0</td>\n",
              "    </tr>\n",
              "    <tr>\n",
              "      <th>2250</th>\n",
              "      <td>0</td>\n",
              "      <td>25.35</td>\n",
              "      <td>0</td>\n",
              "    </tr>\n",
              "    <tr>\n",
              "      <th>2855</th>\n",
              "      <td>0</td>\n",
              "      <td>73.35</td>\n",
              "      <td>0</td>\n",
              "    </tr>\n",
              "    <tr>\n",
              "      <th>3052</th>\n",
              "      <td>0</td>\n",
              "      <td>25.75</td>\n",
              "      <td>0</td>\n",
              "    </tr>\n",
              "    <tr>\n",
              "      <th>3118</th>\n",
              "      <td>0</td>\n",
              "      <td>52.55</td>\n",
              "      <td>0</td>\n",
              "    </tr>\n",
              "    <tr>\n",
              "      <th>4054</th>\n",
              "      <td>0</td>\n",
              "      <td>80.85</td>\n",
              "      <td>0</td>\n",
              "    </tr>\n",
              "    <tr>\n",
              "      <th>5433</th>\n",
              "      <td>0</td>\n",
              "      <td>19.85</td>\n",
              "      <td>0</td>\n",
              "    </tr>\n",
              "  </tbody>\n",
              "</table>\n",
              "</div>"
            ],
            "text/plain": [
              "      meses_contrato  valor_fatura_mensal valor_total_pago\n",
              "945                0                56.05                0\n",
              "1731               0                20.00                0\n",
              "1906               0                61.90                0\n",
              "2025               0                19.70                0\n",
              "2176               0                20.25                0\n",
              "2250               0                25.35                0\n",
              "2855               0                73.35                0\n",
              "3052               0                25.75                0\n",
              "3118               0                52.55                0\n",
              "4054               0                80.85                0\n",
              "5433               0                19.85                0"
            ]
          },
          "execution_count": 18,
          "metadata": {},
          "output_type": "execute_result"
        }
      ],
      "source": [
        "selecao = dados_normalizados.query(\"meses_contrato == 0\").index\n",
        "dados_normalizados.loc[selecao, 'valor_total_pago'] = 0\n",
        "dados_normalizados.query(\"meses_contrato == 0\")[['meses_contrato', 'valor_fatura_mensal', 'valor_total_pago']]"
      ]
    },
    {
      "attachments": {},
      "cell_type": "markdown",
      "metadata": {
        "id": "CH2Ra2T10uJF"
      },
      "source": [
        "Além disso, a coluna valor_total_pago está como tipo object e é necessário converter para float."
      ]
    },
    {
      "cell_type": "code",
      "execution_count": 19,
      "metadata": {
        "colab": {
          "base_uri": "https://localhost:8080/"
        },
        "id": "6sBeH5bd0tjl",
        "outputId": "c0e51c0a-2602-40c7-944e-74a97395ab32"
      },
      "outputs": [
        {
          "data": {
            "text/plain": [
              "dtype('float64')"
            ]
          },
          "execution_count": 19,
          "metadata": {},
          "output_type": "execute_result"
        }
      ],
      "source": [
        "dados_normalizados.valor_total_pago = dados_normalizados.valor_total_pago.astype('float64')\n",
        "dados_normalizados.valor_total_pago.dtypes"
      ]
    },
    {
      "attachments": {},
      "cell_type": "markdown",
      "metadata": {
        "id": "EtPrnFuE1pdF"
      },
      "source": [
        "#### Coluna de gastos diários"
      ]
    },
    {
      "cell_type": "code",
      "execution_count": 20,
      "metadata": {
        "colab": {
          "base_uri": "https://localhost:8080/",
          "height": 423
        },
        "id": "manCe8vP0TW-",
        "outputId": "c8047d0c-4ee9-4430-fc42-9e5cde2dc3f8"
      },
      "outputs": [
        {
          "data": {
            "text/html": [
              "<div>\n",
              "<style scoped>\n",
              "    .dataframe tbody tr th:only-of-type {\n",
              "        vertical-align: middle;\n",
              "    }\n",
              "\n",
              "    .dataframe tbody tr th {\n",
              "        vertical-align: top;\n",
              "    }\n",
              "\n",
              "    .dataframe thead th {\n",
              "        text-align: right;\n",
              "    }\n",
              "</style>\n",
              "<table border=\"1\" class=\"dataframe\">\n",
              "  <thead>\n",
              "    <tr style=\"text-align: right;\">\n",
              "      <th></th>\n",
              "      <th>meses_contrato</th>\n",
              "      <th>valor_fatura_mensal</th>\n",
              "      <th>valor_total_pago</th>\n",
              "      <th>valor_gasto_diario</th>\n",
              "    </tr>\n",
              "  </thead>\n",
              "  <tbody>\n",
              "    <tr>\n",
              "      <th>0</th>\n",
              "      <td>9</td>\n",
              "      <td>65.60</td>\n",
              "      <td>593.30</td>\n",
              "      <td>2.19</td>\n",
              "    </tr>\n",
              "    <tr>\n",
              "      <th>1</th>\n",
              "      <td>9</td>\n",
              "      <td>59.90</td>\n",
              "      <td>542.40</td>\n",
              "      <td>2.00</td>\n",
              "    </tr>\n",
              "    <tr>\n",
              "      <th>2</th>\n",
              "      <td>4</td>\n",
              "      <td>73.90</td>\n",
              "      <td>280.85</td>\n",
              "      <td>2.46</td>\n",
              "    </tr>\n",
              "    <tr>\n",
              "      <th>3</th>\n",
              "      <td>13</td>\n",
              "      <td>98.00</td>\n",
              "      <td>1237.85</td>\n",
              "      <td>3.27</td>\n",
              "    </tr>\n",
              "    <tr>\n",
              "      <th>4</th>\n",
              "      <td>3</td>\n",
              "      <td>83.90</td>\n",
              "      <td>267.40</td>\n",
              "      <td>2.80</td>\n",
              "    </tr>\n",
              "    <tr>\n",
              "      <th>...</th>\n",
              "      <td>...</td>\n",
              "      <td>...</td>\n",
              "      <td>...</td>\n",
              "      <td>...</td>\n",
              "    </tr>\n",
              "    <tr>\n",
              "      <th>7038</th>\n",
              "      <td>13</td>\n",
              "      <td>55.15</td>\n",
              "      <td>742.90</td>\n",
              "      <td>1.84</td>\n",
              "    </tr>\n",
              "    <tr>\n",
              "      <th>7039</th>\n",
              "      <td>22</td>\n",
              "      <td>85.10</td>\n",
              "      <td>1873.70</td>\n",
              "      <td>2.84</td>\n",
              "    </tr>\n",
              "    <tr>\n",
              "      <th>7040</th>\n",
              "      <td>2</td>\n",
              "      <td>50.30</td>\n",
              "      <td>92.75</td>\n",
              "      <td>1.68</td>\n",
              "    </tr>\n",
              "    <tr>\n",
              "      <th>7041</th>\n",
              "      <td>67</td>\n",
              "      <td>67.85</td>\n",
              "      <td>4627.65</td>\n",
              "      <td>2.26</td>\n",
              "    </tr>\n",
              "    <tr>\n",
              "      <th>7042</th>\n",
              "      <td>63</td>\n",
              "      <td>59.00</td>\n",
              "      <td>3707.60</td>\n",
              "      <td>1.97</td>\n",
              "    </tr>\n",
              "  </tbody>\n",
              "</table>\n",
              "<p>7043 rows × 4 columns</p>\n",
              "</div>"
            ],
            "text/plain": [
              "      meses_contrato  valor_fatura_mensal  valor_total_pago  \\\n",
              "0                  9                65.60            593.30   \n",
              "1                  9                59.90            542.40   \n",
              "2                  4                73.90            280.85   \n",
              "3                 13                98.00           1237.85   \n",
              "4                  3                83.90            267.40   \n",
              "...              ...                  ...               ...   \n",
              "7038              13                55.15            742.90   \n",
              "7039              22                85.10           1873.70   \n",
              "7040               2                50.30             92.75   \n",
              "7041              67                67.85           4627.65   \n",
              "7042              63                59.00           3707.60   \n",
              "\n",
              "      valor_gasto_diario  \n",
              "0                   2.19  \n",
              "1                   2.00  \n",
              "2                   2.46  \n",
              "3                   3.27  \n",
              "4                   2.80  \n",
              "...                  ...  \n",
              "7038                1.84  \n",
              "7039                2.84  \n",
              "7040                1.68  \n",
              "7041                2.26  \n",
              "7042                1.97  \n",
              "\n",
              "[7043 rows x 4 columns]"
            ]
          },
          "execution_count": 20,
          "metadata": {},
          "output_type": "execute_result"
        }
      ],
      "source": [
        "dados_normalizados['valor_gasto_diario'] = round((dados_normalizados.valor_fatura_mensal / 30),2)\n",
        "dados_normalizados[['meses_contrato', 'valor_fatura_mensal', 'valor_total_pago', 'valor_gasto_diario']]"
      ]
    },
    {
      "attachments": {},
      "cell_type": "markdown",
      "metadata": {
        "id": "mUM8XENc7X6c"
      },
      "source": [
        "# Semana 2 - Análise Exploratória"
      ]
    },
    {
      "attachments": {},
      "cell_type": "markdown",
      "metadata": {
        "id": "mjR1lOwH9FSc"
      },
      "source": [
        "### Bibliotecas\n"
      ]
    },
    {
      "cell_type": "code",
      "execution_count": 21,
      "metadata": {
        "id": "EjQxIVpm2Tj3"
      },
      "outputs": [],
      "source": [
        "import seaborn as sns\n",
        "import matplotlib.pyplot as plt\n",
        "\n",
        "sns.set_palette('Accent')\n",
        "sns.set_style('darkgrid')"
      ]
    },
    {
      "attachments": {},
      "cell_type": "markdown",
      "metadata": {
        "id": "BKMWL8S9Wk9v"
      },
      "source": [
        "### Distribuição da variável Churn"
      ]
    },
    {
      "cell_type": "code",
      "execution_count": 22,
      "metadata": {
        "colab": {
          "base_uri": "https://localhost:8080/",
          "height": 499
        },
        "id": "WZG29mKRWoO2",
        "outputId": "53e892f3-2b65-4078-ed4e-c9737806d40e"
      },
      "outputs": [
        {
          "data": {
            "image/png": "[encoded data removed]",
            "text/plain": [
              "<Figure size 1000x500 with 1 Axes>"
            ]
          },
          "metadata": {},
          "output_type": "display_data"
        }
      ],
      "source": [
        "ax = sns.countplot(data=dados_normalizados,\n",
        "                   x='churn',\n",
        "                   hue='genero')\n",
        "ax.figure.set_size_inches(10,5)\n",
        "ax.set_title('Distribuição do Churn de Clientes por Gênero', fontsize=18, loc='left')\n",
        "ax.set_xlabel('Churn', fontsize=14)\n",
        "ax.set_ylabel('Contagem', fontsize=14)\n",
        "ax=ax"
      ]
    },
    {
      "attachments": {},
      "cell_type": "markdown",
      "metadata": {
        "id": "Aas-JG82YmFy"
      },
      "source": [
        "Nota-se que não há diferença significativa entre o churn para ambos os gêneros."
      ]
    },
    {
      "cell_type": "code",
      "execution_count": 23,
      "metadata": {
        "colab": {
          "base_uri": "https://localhost:8080/",
          "height": 497
        },
        "id": "iCStiT2taIua",
        "outputId": "cd2a6676-15c3-4081-b689-084050b189bf"
      },
      "outputs": [
        {
          "data": {
            "image/png": "[encoded data removed]",
            "text/plain": [
              "<Figure size 1000x500 with 1 Axes>"
            ]
          },
          "metadata": {},
          "output_type": "display_data"
        }
      ],
      "source": [
        "ax = sns.countplot(data=dados_normalizados,\n",
        "                   x='churn',\n",
        "                   hue='tipo_contrato')\n",
        "ax.figure.set_size_inches(10,5)\n",
        "ax.set_title('Distribuição do Churn de Clientes por Tipo de Contrato', fontsize=18, loc='left')\n",
        "ax.set_xlabel('Churn', fontsize=14)\n",
        "ax.set_ylabel('Contagem', fontsize=14)\n",
        "ax=ax"
      ]
    },
    {
      "attachments": {},
      "cell_type": "markdown",
      "metadata": {
        "id": "L5GQesx-aPA0"
      },
      "source": [
        "Nota-se maior cancelamento de contratos para clientes com contratos mensais."
      ]
    },
    {
      "cell_type": "code",
      "execution_count": 24,
      "metadata": {
        "colab": {
          "base_uri": "https://localhost:8080/",
          "height": 497
        },
        "id": "aUaIkreLWoMi",
        "outputId": "2b661237-855f-4b33-f513-23d3d0dec0fe"
      },
      "outputs": [
        {
          "data": {
            "image/png": "[encoded data removed]",
            "text/plain": [
              "<Figure size 1000x500 with 1 Axes>"
            ]
          },
          "metadata": {},
          "output_type": "display_data"
        }
      ],
      "source": [
        "ax = sns.countplot(data=dados_normalizados,\n",
        "                   x='churn',\n",
        "                   hue='assina_telefone')\n",
        "ax.figure.set_size_inches(10,5)\n",
        "ax.set_title('Distribuição do Churn de Clientes por Assinatura de Telefone', fontsize=18, loc='left')\n",
        "ax.set_xlabel('Churn', fontsize=14)\n",
        "ax.set_ylabel('Contagem', fontsize=14)\n",
        "ax=ax"
      ]
    },
    {
      "cell_type": "code",
      "execution_count": 25,
      "metadata": {
        "colab": {
          "base_uri": "https://localhost:8080/",
          "height": 497
        },
        "id": "gsFgTk8yZKy6",
        "outputId": "15cca6ec-a000-4218-f8ff-852457345daf"
      },
      "outputs": [
        {
          "data": {
            "image/png": "[encoded data removed]",
            "text/plain": [
              "<Figure size 1000x500 with 1 Axes>"
            ]
          },
          "metadata": {},
          "output_type": "display_data"
        }
      ],
      "source": [
        "ax = sns.countplot(data=dados_normalizados,\n",
        "                   x='churn',\n",
        "                   hue='aasinatura_provedor_internet')\n",
        "ax.figure.set_size_inches(10,5)\n",
        "ax.set_title('Distribuição do Churn de Clientes por Provedor de Internet', fontsize=18, loc='left')\n",
        "ax.set_xlabel('Churn', fontsize=14)\n",
        "ax.set_ylabel('Contagem', fontsize=14)\n",
        "ax=ax"
      ]
    },
    {
      "attachments": {},
      "cell_type": "markdown",
      "metadata": {
        "id": "-3rEDNHdZYmo"
      },
      "source": [
        "Nota-se uma maior tendência de churn para clientes com o serviço de fibra óptica."
      ]
    },
    {
      "cell_type": "code",
      "execution_count": 26,
      "metadata": {
        "colab": {
          "base_uri": "https://localhost:8080/",
          "height": 497
        },
        "id": "G39zvz6MZfYe",
        "outputId": "43aa9679-95e5-4435-e849-01d6ff295e05"
      },
      "outputs": [
        {
          "data": {
            "image/png": "[encoded data removed]",
            "text/plain": [
              "<Figure size 1000x500 with 1 Axes>"
            ]
          },
          "metadata": {},
          "output_type": "display_data"
        }
      ],
      "source": [
        "ax = sns.countplot(data=dados_normalizados,\n",
        "                   x='churn',\n",
        "                   hue='assinatura_seguranca')\n",
        "ax.figure.set_size_inches(10,5)\n",
        "ax.set_title('Distribuição do Churn de Clientes por Assinatura de Segurança', fontsize=18, loc='left')\n",
        "ax.set_xlabel('Churn', fontsize=14)\n",
        "ax.set_ylabel('Contagem', fontsize=14)\n",
        "ax=ax"
      ]
    },
    {
      "attachments": {},
      "cell_type": "markdown",
      "metadata": {
        "id": "volkhkulZy2H"
      },
      "source": [
        "Também percebe-se uma maior saída da empresa em clientes que não possuem serviço de segurança online."
      ]
    },
    {
      "cell_type": "code",
      "execution_count": 27,
      "metadata": {
        "colab": {
          "base_uri": "https://localhost:8080/",
          "height": 499
        },
        "id": "17s_UQjYZwVk",
        "outputId": "9b2e4900-85fe-4d7a-c818-2230178866b3"
      },
      "outputs": [
        {
          "data": {
            "image/png": "[encoded data removed]",
            "text/plain": [
              "<Figure size 1000x500 with 1 Axes>"
            ]
          },
          "metadata": {},
          "output_type": "display_data"
        }
      ],
      "source": [
        "ax = sns.countplot(data=dados_normalizados,\n",
        "                   x='churn',\n",
        "                   hue='assinatura_suporte_tecnico')\n",
        "ax.figure.set_size_inches(10,5)\n",
        "ax.set_title('Distribuição do Churn de Clientes por Assinatura Suporte Técnico', fontsize=18, loc='left')\n",
        "ax.set_xlabel('Churn', fontsize=14)\n",
        "ax.set_ylabel('Contagem', fontsize=14)\n",
        "ax=ax"
      ]
    },
    {
      "attachments": {},
      "cell_type": "markdown",
      "metadata": {
        "id": "NoY17XtsagDq"
      },
      "source": [
        "Assim como no serviço de segurança, a ausência do suporte técnico também está presente em maior churn."
      ]
    },
    {
      "attachments": {},
      "cell_type": "markdown",
      "metadata": {
        "id": "vjQ9FW7D9e7A"
      },
      "source": [
        "### Churn x Valores Pagos"
      ]
    },
    {
      "cell_type": "code",
      "execution_count": 28,
      "metadata": {
        "colab": {
          "base_uri": "https://localhost:8080/",
          "height": 175
        },
        "id": "wAALkAtE_Lnb",
        "outputId": "7afa4cb8-f058-452c-dc34-171bacfd59d5"
      },
      "outputs": [
        {
          "data": {
            "text/html": [
              "<div>\n",
              "<style scoped>\n",
              "    .dataframe tbody tr th:only-of-type {\n",
              "        vertical-align: middle;\n",
              "    }\n",
              "\n",
              "    .dataframe tbody tr th {\n",
              "        vertical-align: top;\n",
              "    }\n",
              "\n",
              "    .dataframe thead tr th {\n",
              "        text-align: left;\n",
              "    }\n",
              "\n",
              "    .dataframe thead tr:last-of-type th {\n",
              "        text-align: right;\n",
              "    }\n",
              "</style>\n",
              "<table border=\"1\" class=\"dataframe\">\n",
              "  <thead>\n",
              "    <tr>\n",
              "      <th></th>\n",
              "      <th colspan=\"3\" halign=\"left\">valor_fatura_mensal</th>\n",
              "      <th colspan=\"3\" halign=\"left\">valor_total_pago</th>\n",
              "      <th colspan=\"3\" halign=\"left\">valor_gasto_diario</th>\n",
              "    </tr>\n",
              "    <tr>\n",
              "      <th></th>\n",
              "      <th>mean</th>\n",
              "      <th>std</th>\n",
              "      <th>median</th>\n",
              "      <th>mean</th>\n",
              "      <th>std</th>\n",
              "      <th>median</th>\n",
              "      <th>mean</th>\n",
              "      <th>std</th>\n",
              "      <th>median</th>\n",
              "    </tr>\n",
              "    <tr>\n",
              "      <th>churn</th>\n",
              "      <th></th>\n",
              "      <th></th>\n",
              "      <th></th>\n",
              "      <th></th>\n",
              "      <th></th>\n",
              "      <th></th>\n",
              "      <th></th>\n",
              "      <th></th>\n",
              "      <th></th>\n",
              "    </tr>\n",
              "  </thead>\n",
              "  <tbody>\n",
              "    <tr>\n",
              "      <th>No</th>\n",
              "      <td>61.27</td>\n",
              "      <td>31.09</td>\n",
              "      <td>64.43</td>\n",
              "      <td>2549.91</td>\n",
              "      <td>2329.95</td>\n",
              "      <td>1679.52</td>\n",
              "      <td>2.04</td>\n",
              "      <td>1.04</td>\n",
              "      <td>2.15</td>\n",
              "    </tr>\n",
              "    <tr>\n",
              "      <th>Yes</th>\n",
              "      <td>74.44</td>\n",
              "      <td>24.67</td>\n",
              "      <td>79.65</td>\n",
              "      <td>1531.80</td>\n",
              "      <td>1890.82</td>\n",
              "      <td>703.55</td>\n",
              "      <td>2.48</td>\n",
              "      <td>0.82</td>\n",
              "      <td>2.66</td>\n",
              "    </tr>\n",
              "  </tbody>\n",
              "</table>\n",
              "</div>"
            ],
            "text/plain": [
              "      valor_fatura_mensal               valor_total_pago                    \\\n",
              "                     mean    std median             mean      std   median   \n",
              "churn                                                                        \n",
              "No                  61.27  31.09  64.43          2549.91  2329.95  1679.52   \n",
              "Yes                 74.44  24.67  79.65          1531.80  1890.82   703.55   \n",
              "\n",
              "      valor_gasto_diario               \n",
              "                    mean   std median  \n",
              "churn                                  \n",
              "No                  2.04  1.04   2.15  \n",
              "Yes                 2.48  0.82   2.66  "
            ]
          },
          "execution_count": 28,
          "metadata": {},
          "output_type": "execute_result"
        }
      ],
      "source": [
        "dados_normalizados.groupby(by='churn')\\\n",
        "                   [['valor_fatura_mensal', 'valor_total_pago', 'valor_gasto_diario']]\\\n",
        "                   .agg(['mean', 'std', 'median'])\\\n",
        "                   .round(2)"
      ]
    },
    {
      "cell_type": "code",
      "execution_count": 29,
      "metadata": {
        "colab": {
          "base_uri": "https://localhost:8080/",
          "height": 497
        },
        "id": "fjNpgNFn8BOV",
        "outputId": "8b029446-f833-4d63-d0c9-3df413b7dc48"
      },
      "outputs": [
        {
          "data": {
            "image/png": "[encoded data removed]",
            "text/plain": [
              "<Figure size 2000x500 with 2 Axes>"
            ]
          },
          "metadata": {},
          "output_type": "display_data"
        }
      ],
      "source": [
        "fig, axs = plt.subplots(1,2,figsize=(20,5))\n",
        "\n",
        "sns.boxplot(x='valor_fatura_mensal',y='churn',data=dados_normalizados, ax=axs[0])\n",
        "sns.boxplot(x='valor_total_pago',y='churn',data=dados_normalizados, ax=axs[1])\n",
        "\n",
        "axs[0].set_title('Churn & Valor Mensal da Fatura', fontsize=18, loc='left')\n",
        "axs[0].set_xlabel('Valor fatural mensal (R$)', fontsize=14)\n",
        "axs[0].set_ylabel('Churn', fontsize=14)\n",
        "axs[1].set_title('Churn & Valor Total Pago', fontsize=18, loc='left')\n",
        "axs[1].set_xlabel('Valor total pago (R$)', fontsize=14)\n",
        "axs[1].set_ylabel('Churn', fontsize=14)\n",
        "\n",
        "plt.show()"
      ]
    },
    {
      "attachments": {},
      "cell_type": "markdown",
      "metadata": {
        "id": "2tV0m8dIDu49"
      },
      "source": [
        "Analisando em relação ao valor da fatura mensal, nota-se que os clientes que deixaram a empresa tem faturas com valores maiores e mais concentradas em **R$80,00**. Já os clientes que permancem com o contrato, possuem faturas com valores menores.<br>\n",
        "\n",
        "Observando o valor total pago, clientes que encerraram o contrato têm um valor pago acumulado menor, indicando uma possível menor permanência com a empresa."
      ]
    },
    {
      "cell_type": "code",
      "execution_count": 30,
      "metadata": {
        "colab": {
          "base_uri": "https://localhost:8080/",
          "height": 532
        },
        "id": "_0kIeg_m8BEW",
        "outputId": "e5b36826-3f19-48ff-9ce0-468641e47582"
      },
      "outputs": [
        {
          "data": {
            "image/png": "[encoded data removed]",
            "text/plain": [
              "<Figure size 1000x500 with 2 Axes>"
            ]
          },
          "metadata": {},
          "output_type": "display_data"
        }
      ],
      "source": [
        "ax=sns.relplot(x='meses_contrato', y='valor_total_pago', hue='churn', col='churn', data=dados_normalizados)\n",
        "ax.figure.set_size_inches(10,5)\n",
        "ax.fig.suptitle('Tempo de Contrato x Valor Total Pago', fontsize=18, x=0.23,y=1.02)\n",
        "ax.set(xlabel='Tempo de contrato (mês)', ylabel='Valor total pago')\n",
        "ax=ax"
      ]
    },
    {
      "attachments": {},
      "cell_type": "markdown",
      "metadata": {
        "id": "8ZCLZMxvQ-1y"
      },
      "source": [
        "Pode-se notar que nos clientes que saíram da empresa, à medida que o tempo de contrato aumenta, há cada vez menos observações. Já na outra situação de churn, a quantidade de clientes é mais constante com o aumento de tempo."
      ]
    },
    {
      "attachments": {},
      "cell_type": "markdown",
      "metadata": {
        "id": "TetsGkAJBmV-"
      },
      "source": [
        "#### Testes de Hipóteses"
      ]
    },
    {
      "cell_type": "code",
      "execution_count": 31,
      "metadata": {
        "id": "o9bNHzQDHpL4"
      },
      "outputs": [],
      "source": [
        "from scipy.stats import normaltest\n",
        "significancia = 0.05"
      ]
    },
    {
      "attachments": {},
      "cell_type": "markdown",
      "metadata": {
        "id": "CemjgaH3JJQS"
      },
      "source": [
        "Verificando a normalidade das distribuições"
      ]
    },
    {
      "cell_type": "code",
      "execution_count": 32,
      "metadata": {
        "colab": {
          "base_uri": "https://localhost:8080/"
        },
        "id": "FcwTDv5DHpIl",
        "outputId": "01c72857-df88-45f3-a85d-f6f3a4889973"
      },
      "outputs": [
        {
          "name": "stdout",
          "output_type": "stream",
          "text": [
            "p_valor = 0.0. Hipótese nula rejeitada e a distribuição não vem de uma normal.\n"
          ]
        }
      ],
      "source": [
        "_, pvalor_mensal = normaltest(dados_normalizados.valor_fatura_mensal)\n",
        "if pvalor_mensal <= significancia:\n",
        "  print(f'p_valor = {pvalor_mensal}. Hipótese nula rejeitada e a distribuição não vem de uma normal.')\n",
        "else:\n",
        "  print(f'p_valor = {pvalor_mensal}. Hipótese nula não rejeitada e a distribuição vem de uma normal.')"
      ]
    },
    {
      "cell_type": "code",
      "execution_count": 33,
      "metadata": {
        "colab": {
          "base_uri": "https://localhost:8080/"
        },
        "id": "efwLREkrIvlO",
        "outputId": "20336b98-8718-43ea-e394-f4aebd5ecbae"
      },
      "outputs": [
        {
          "name": "stdout",
          "output_type": "stream",
          "text": [
            "p_valor = 2.6049140547884828e-176. Hipótese nula rejeitada e a distribuição não vem de uma normal.\n"
          ]
        }
      ],
      "source": [
        "_, pvalor_total = normaltest(dados_normalizados.valor_total_pago)\n",
        "if pvalor_total <= significancia:\n",
        "  print(f'p_valor = {pvalor_total}. Hipótese nula rejeitada e a distribuição não vem de uma normal.')\n",
        "else:\n",
        "  print(f'p_valor = {pvalor_total}. Hipótese nula não rejeitada e a distribuição vem de uma normal.')"
      ]
    },
    {
      "cell_type": "code",
      "execution_count": 34,
      "metadata": {
        "id": "4Ivzbs2IGeQC"
      },
      "outputs": [],
      "source": [
        "churn_sim_mensal = dados_normalizados.query('churn == \"Yes\"')['valor_fatura_mensal']\n",
        "churn_nao_mensal = dados_normalizados.query('churn == \"No\"')['valor_fatura_mensal']\n",
        "\n",
        "churn_sim_total = dados_normalizados.query('churn == \"Yes\"')['valor_total_pago']\n",
        "churn_nao_total = dados_normalizados.query('churn == \"No\"')['valor_total_pago']"
      ]
    },
    {
      "attachments": {},
      "cell_type": "markdown",
      "metadata": {
        "id": "87OIsFRkCEl9"
      },
      "source": [
        "##### Teste 1 - Testar se o valor da fatura mensal dos clientes que fizeram churn é, em média, estatiscamente maior do que os clientes que não fizeram.\n",
        "\n",
        "**H<sup>null</sup>**\n",
        "> **A distribuição do valor da fatura mensal é igual para os clientes que fizeram churn e não fizeram.**\n",
        "\n",
        "**H<sup>alt</sup>**\n",
        "> **A distribuição do valor da fatura mensal é maior para os clientes que fizeram churn.**"
      ]
    },
    {
      "cell_type": "code",
      "execution_count": 35,
      "metadata": {
        "colab": {
          "base_uri": "https://localhost:8080/"
        },
        "id": "oa9uQKS5DB6_",
        "outputId": "02022a22-5e8c-4e81-ae74-26a273319033"
      },
      "outputs": [
        {
          "name": "stdout",
          "output_type": "stream",
          "text": [
            "p_valor = 1.6558138259942924e-54. Hipótese nula rejeitada e pode-se afirmar que a mensalidade dos clientes que fizeram churn são estatisticamente superiores, a 95% de confiança.\n"
          ]
        }
      ],
      "source": [
        "from scipy.stats import mannwhitneyu\n",
        "\n",
        "_, pvalor_teste1 = mannwhitneyu(churn_sim_mensal, churn_nao_mensal, alternative='greater')\n",
        "\n",
        "if pvalor_teste1 <= significancia:\n",
        "  print(f'p_valor = {pvalor_teste1}. Hipótese nula rejeitada e pode-se afirmar que a mensalidade dos clientes que fizeram churn são estatisticamente superiores, a 95% de confiança.')\n",
        "else:\n",
        "  print(f'p_valor = {pvalor_total}. Hipótese nula não rejeitada e não se pode afirmar que as distribuições são diferentes, a 95% de confiança.')"
      ]
    },
    {
      "attachments": {},
      "cell_type": "markdown",
      "metadata": {
        "id": "Kcn4h0dIOIhS"
      },
      "source": [
        "##### Teste 2 - Testar se o valor total pago pelos clientes que fizeram churn é, em média, estatiscamente menor do que os clientes que não fizeram.\n",
        "\n",
        "**H<sup>null</sup>**\n",
        "> **A distribuição do valor total pago é igual para os clientes que fizeram churn e não fizeram.**\n",
        "\n",
        "**H<sup>alt</sup>**\n",
        "> **A distribuição do valor total pago é menor para os clientes que fizeram churn.**"
      ]
    },
    {
      "cell_type": "code",
      "execution_count": 36,
      "metadata": {
        "colab": {
          "base_uri": "https://localhost:8080/"
        },
        "id": "EydxbOB4DB4x",
        "outputId": "4a81c85d-402e-403f-d702-ab7682555967"
      },
      "outputs": [
        {
          "name": "stdout",
          "output_type": "stream",
          "text": [
            "p_valor = 2.842516933103657e-83. Hipótese nula rejeitada e pode-se afirmar que o valor total pago pelos clientes que fizeram churn são estatisticamente menores, a 95% de confiança.\n"
          ]
        }
      ],
      "source": [
        "_, pvalor_teste2 = mannwhitneyu(churn_sim_total, churn_nao_total, alternative='less')\n",
        "\n",
        "if pvalor_teste2 <= significancia:\n",
        "  print(f'p_valor = {pvalor_teste2}. Hipótese nula rejeitada e pode-se afirmar que o valor total pago pelos clientes que fizeram churn são estatisticamente menores, a 95% de confiança.')\n",
        "else:\n",
        "  print(f'p_valor = {pvalor_teste2}. Hipótese nula não rejeitada e não se pode afirmar que as distribuições são diferentes, a 95% de confiança.')"
      ]
    },
    {
      "cell_type": "code",
      "execution_count": null,
      "metadata": {
        "id": "QzT9sNjZROoM"
      },
      "outputs": [],
      "source": []
    },
    {
      "cell_type": "code",
      "execution_count": 37,
      "metadata": {
        "colab": {
          "base_uri": "https://localhost:8080/",
          "height": 206
        },
        "id": "uZTxHELMROmR",
        "outputId": "4a88ca12-a266-44e6-9e6c-4bd2d222649a"
      },
      "outputs": [
        {
          "data": {
            "text/html": [
              "<div>\n",
              "<style scoped>\n",
              "    .dataframe tbody tr th:only-of-type {\n",
              "        vertical-align: middle;\n",
              "    }\n",
              "\n",
              "    .dataframe tbody tr th {\n",
              "        vertical-align: top;\n",
              "    }\n",
              "\n",
              "    .dataframe thead th {\n",
              "        text-align: right;\n",
              "    }\n",
              "</style>\n",
              "<table border=\"1\" class=\"dataframe\">\n",
              "  <thead>\n",
              "    <tr style=\"text-align: right;\">\n",
              "      <th></th>\n",
              "      <th>id_cliente</th>\n",
              "      <th>churn</th>\n",
              "      <th>genero</th>\n",
              "      <th>idoso</th>\n",
              "      <th>possui_parceiro</th>\n",
              "      <th>possui_dependentes</th>\n",
              "      <th>tipo_contrato</th>\n",
              "      <th>valor_fatura_mensal</th>\n",
              "      <th>valor_total_pago</th>\n",
              "    </tr>\n",
              "  </thead>\n",
              "  <tbody>\n",
              "    <tr>\n",
              "      <th>0</th>\n",
              "      <td>0002-ORFBO</td>\n",
              "      <td>No</td>\n",
              "      <td>Female</td>\n",
              "      <td>0</td>\n",
              "      <td>Yes</td>\n",
              "      <td>Yes</td>\n",
              "      <td>One year</td>\n",
              "      <td>65.6</td>\n",
              "      <td>593.30</td>\n",
              "    </tr>\n",
              "    <tr>\n",
              "      <th>1</th>\n",
              "      <td>0003-MKNFE</td>\n",
              "      <td>No</td>\n",
              "      <td>Male</td>\n",
              "      <td>0</td>\n",
              "      <td>No</td>\n",
              "      <td>No</td>\n",
              "      <td>Month-to-month</td>\n",
              "      <td>59.9</td>\n",
              "      <td>542.40</td>\n",
              "    </tr>\n",
              "    <tr>\n",
              "      <th>2</th>\n",
              "      <td>0004-TLHLJ</td>\n",
              "      <td>Yes</td>\n",
              "      <td>Male</td>\n",
              "      <td>0</td>\n",
              "      <td>No</td>\n",
              "      <td>No</td>\n",
              "      <td>Month-to-month</td>\n",
              "      <td>73.9</td>\n",
              "      <td>280.85</td>\n",
              "    </tr>\n",
              "    <tr>\n",
              "      <th>3</th>\n",
              "      <td>0011-IGKFF</td>\n",
              "      <td>Yes</td>\n",
              "      <td>Male</td>\n",
              "      <td>1</td>\n",
              "      <td>Yes</td>\n",
              "      <td>No</td>\n",
              "      <td>Month-to-month</td>\n",
              "      <td>98.0</td>\n",
              "      <td>1237.85</td>\n",
              "    </tr>\n",
              "    <tr>\n",
              "      <th>4</th>\n",
              "      <td>0013-EXCHZ</td>\n",
              "      <td>Yes</td>\n",
              "      <td>Female</td>\n",
              "      <td>1</td>\n",
              "      <td>Yes</td>\n",
              "      <td>No</td>\n",
              "      <td>Month-to-month</td>\n",
              "      <td>83.9</td>\n",
              "      <td>267.40</td>\n",
              "    </tr>\n",
              "  </tbody>\n",
              "</table>\n",
              "</div>"
            ],
            "text/plain": [
              "   id_cliente churn  genero  idoso possui_parceiro possui_dependentes  \\\n",
              "0  0002-ORFBO    No  Female      0             Yes                Yes   \n",
              "1  0003-MKNFE    No    Male      0              No                 No   \n",
              "2  0004-TLHLJ   Yes    Male      0              No                 No   \n",
              "3  0011-IGKFF   Yes    Male      1             Yes                 No   \n",
              "4  0013-EXCHZ   Yes  Female      1             Yes                 No   \n",
              "\n",
              "    tipo_contrato  valor_fatura_mensal  valor_total_pago  \n",
              "0        One year                 65.6            593.30  \n",
              "1  Month-to-month                 59.9            542.40  \n",
              "2  Month-to-month                 73.9            280.85  \n",
              "3  Month-to-month                 98.0           1237.85  \n",
              "4  Month-to-month                 83.9            267.40  "
            ]
          },
          "execution_count": 37,
          "metadata": {},
          "output_type": "execute_result"
        }
      ],
      "source": [
        "dados_normalizados[['id_cliente', 'churn', 'genero', 'idoso', 'possui_parceiro', 'possui_dependentes', 'tipo_contrato', 'valor_fatura_mensal', 'valor_total_pago']].head()"
      ]
    },
    {
      "attachments": {},
      "cell_type": "markdown",
      "metadata": {
        "id": "ccZvnwvtSF4u"
      },
      "source": [
        "***"
      ]
    },
    {
      "attachments": {},
      "cell_type": "markdown",
      "metadata": {
        "id": "oMM4PDs7SHT6"
      },
      "source": [
        "### Churn x Dependentes/Parceiros/Faixa etária"
      ]
    },
    {
      "attachments": {},
      "cell_type": "markdown",
      "metadata": {
        "id": "ofrQXD8cSOOu"
      },
      "source": [
        "Como foi verificado que o valor da fatura possui relação com a taxa de churn, podemos verificar como a presença de dependentes, parceiro e idade afetam."
      ]
    },
    {
      "cell_type": "code",
      "execution_count": 38,
      "metadata": {
        "colab": {
          "base_uri": "https://localhost:8080/",
          "height": 1000
        },
        "id": "tq7hQ_2YROj3",
        "outputId": "911e13c6-7c11-4063-e3ce-cc59950ef4d7"
      },
      "outputs": [
        {
          "data": {
            "image/png": "[encoded data removed]",
            "text/plain": [
              "<Figure size 2000x1500 with 6 Axes>"
            ]
          },
          "metadata": {},
          "output_type": "display_data"
        }
      ],
      "source": [
        "fig, axs = plt.subplots(3,2,figsize=(20,15))\n",
        "\n",
        "sns.boxplot(x='valor_fatura_mensal',y='churn',hue='possui_dependentes',data=dados_normalizados, ax=axs[0,0])\n",
        "sns.boxplot(x='valor_total_pago',y='churn',hue='possui_dependentes',data=dados_normalizados, ax=axs[0,1])\n",
        "sns.boxplot(x='valor_fatura_mensal',y='churn',hue='possui_parceiro',data=dados_normalizados, ax=axs[1,0])\n",
        "sns.boxplot(x='valor_total_pago',y='churn',hue='possui_parceiro',data=dados_normalizados, ax=axs[1,1])\n",
        "sns.boxplot(x='valor_fatura_mensal',y='churn',hue='idoso',data=dados_normalizados, ax=axs[2,0])\n",
        "sns.boxplot(x='valor_total_pago',y='churn',hue='idoso',data=dados_normalizados, ax=axs[2,1])\n",
        "\n",
        "axs[0,0].set_title('Churn & Valor Mensal da Fatura', fontsize=18, loc='left')\n",
        "axs[0,0].set_xlabel('Valor fatural mensal (R$)', fontsize=14)\n",
        "axs[0,0].set_ylabel('Churn', fontsize=14)\n",
        "axs[0,1].set_title('Churn & Valor Total Pago', fontsize=18, loc='left')\n",
        "axs[0,1].set_xlabel('Valor total pago (R$)', fontsize=14)\n",
        "axs[0,1].set_ylabel('Churn', fontsize=14)\n",
        "axs[1,0].set_xlabel('Valor fatural mensal (R$)', fontsize=14)\n",
        "axs[1,0].set_ylabel('Churn', fontsize=14)\n",
        "axs[1,1].set_xlabel('Valor total pago (R$)', fontsize=14)\n",
        "axs[1,1].set_ylabel('Churn', fontsize=14)\n",
        "axs[2,0].set_xlabel('Valor fatural mensal (R$)', fontsize=14)\n",
        "axs[2,0].set_ylabel('Churn', fontsize=14)\n",
        "axs[2,1].set_xlabel('Valor total pago (R$)', fontsize=14)\n",
        "axs[2,1].set_ylabel('Churn', fontsize=14)\n",
        "\n",
        "plt.show()"
      ]
    },
    {
      "attachments": {},
      "cell_type": "markdown",
      "metadata": {
        "id": "dc22AWfyVJEs"
      },
      "source": [
        "Entre as features testadas, a presença de dependentes não causa grande impacto sobre as faturas pagas, ao contrário de clientes com parceiros e idosos. Idosos e casais tendem a permanecer mais tempo em casa e consequentemente assistir mais à tv."
      ]
    },
    {
      "attachments": {},
      "cell_type": "markdown",
      "metadata": {
        "id": "S1yy05gMazJh"
      },
      "source": [
        "### Correlação"
      ]
    },
    {
      "attachments": {},
      "cell_type": "markdown",
      "metadata": {
        "id": "LrA1FzQKbAK8"
      },
      "source": [
        "Entre as variáveis numéricas da base de dados, podemos analisar as correlações entre o tempo de contrato e os valores pagos."
      ]
    },
    {
      "cell_type": "code",
      "execution_count": 39,
      "metadata": {
        "colab": {
          "base_uri": "https://localhost:8080/",
          "height": 175
        },
        "id": "y7mgVL0Ia1cc",
        "outputId": "42c2f13e-f9ac-4a53-91ad-fe5f4995a55f"
      },
      "outputs": [
        {
          "data": {
            "text/html": [
              "<style type=\"text/css\">\n",
              "#T_8d699_row0_col0, #T_8d699_row0_col1, #T_8d699_row0_col3, #T_8d699_row1_col0, #T_8d699_row1_col1, #T_8d699_row1_col2, #T_8d699_row1_col3, #T_8d699_row2_col1, #T_8d699_row2_col2, #T_8d699_row2_col3, #T_8d699_row3_col0, #T_8d699_row3_col1, #T_8d699_row3_col2, #T_8d699_row3_col3 {\n",
              "  color: white;\n",
              "  font-weight: normal;\n",
              "}\n",
              "#T_8d699_row0_col2, #T_8d699_row2_col0 {\n",
              "  color: darkblue;\n",
              "  font-weight: bold;\n",
              "}\n",
              "</style>\n",
              "<table id=\"T_8d699\">\n",
              "  <thead>\n",
              "    <tr>\n",
              "      <th class=\"blank level0\" >&nbsp;</th>\n",
              "      <th id=\"T_8d699_level0_col0\" class=\"col_heading level0 col0\" >meses_contrato</th>\n",
              "      <th id=\"T_8d699_level0_col1\" class=\"col_heading level0 col1\" >valor_fatura_mensal</th>\n",
              "      <th id=\"T_8d699_level0_col2\" class=\"col_heading level0 col2\" >valor_total_pago</th>\n",
              "      <th id=\"T_8d699_level0_col3\" class=\"col_heading level0 col3\" >valor_gasto_diario</th>\n",
              "    </tr>\n",
              "  </thead>\n",
              "  <tbody>\n",
              "    <tr>\n",
              "      <th id=\"T_8d699_level0_row0\" class=\"row_heading level0 row0\" >meses_contrato</th>\n",
              "      <td id=\"T_8d699_row0_col0\" class=\"data row0 col0\" >1.000</td>\n",
              "      <td id=\"T_8d699_row0_col1\" class=\"data row0 col1\" >0.248</td>\n",
              "      <td id=\"T_8d699_row0_col2\" class=\"data row0 col2\" >0.826</td>\n",
              "      <td id=\"T_8d699_row0_col3\" class=\"data row0 col3\" >0.248</td>\n",
              "    </tr>\n",
              "    <tr>\n",
              "      <th id=\"T_8d699_level0_row1\" class=\"row_heading level0 row1\" >valor_fatura_mensal</th>\n",
              "      <td id=\"T_8d699_row1_col0\" class=\"data row1 col0\" >0.248</td>\n",
              "      <td id=\"T_8d699_row1_col1\" class=\"data row1 col1\" >1.000</td>\n",
              "      <td id=\"T_8d699_row1_col2\" class=\"data row1 col2\" >0.651</td>\n",
              "      <td id=\"T_8d699_row1_col3\" class=\"data row1 col3\" >1.000</td>\n",
              "    </tr>\n",
              "    <tr>\n",
              "      <th id=\"T_8d699_level0_row2\" class=\"row_heading level0 row2\" >valor_total_pago</th>\n",
              "      <td id=\"T_8d699_row2_col0\" class=\"data row2 col0\" >0.826</td>\n",
              "      <td id=\"T_8d699_row2_col1\" class=\"data row2 col1\" >0.651</td>\n",
              "      <td id=\"T_8d699_row2_col2\" class=\"data row2 col2\" >1.000</td>\n",
              "      <td id=\"T_8d699_row2_col3\" class=\"data row2 col3\" >0.651</td>\n",
              "    </tr>\n",
              "    <tr>\n",
              "      <th id=\"T_8d699_level0_row3\" class=\"row_heading level0 row3\" >valor_gasto_diario</th>\n",
              "      <td id=\"T_8d699_row3_col0\" class=\"data row3 col0\" >0.248</td>\n",
              "      <td id=\"T_8d699_row3_col1\" class=\"data row3 col1\" >1.000</td>\n",
              "      <td id=\"T_8d699_row3_col2\" class=\"data row3 col2\" >0.651</td>\n",
              "      <td id=\"T_8d699_row3_col3\" class=\"data row3 col3\" >1.000</td>\n",
              "    </tr>\n",
              "  </tbody>\n",
              "</table>\n"
            ],
            "text/plain": [
              "<pandas.io.formats.style.Styler at 0x1a4d7d42790>"
            ]
          },
          "execution_count": 39,
          "metadata": {},
          "output_type": "execute_result"
        }
      ],
      "source": [
        "correlacoes = dados_normalizados[['meses_contrato', 'valor_fatura_mensal', 'valor_total_pago', 'valor_gasto_diario']].corr().round(3)\n",
        "correlacoes.round(3).style.format('{:.3f}')\\\n",
        "                          .applymap(lambda x: f\"color: {'darkblue' if x>=0.8 and x<1 else 'white'}\", subset=['meses_contrato',\t'valor_fatura_mensal',\t'valor_total_pago',\t'valor_gasto_diario'])\\\n",
        "                          .applymap(lambda x: f\"font-weight: {'bold' if x>=0.8 and x<1 else 'normal'}\", subset=['meses_contrato',\t'valor_fatura_mensal',\t'valor_total_pago',\t'valor_gasto_diario'])"
      ]
    },
    {
      "attachments": {},
      "cell_type": "markdown",
      "metadata": {
        "id": "dbLV1puGe4ij"
      },
      "source": [
        "Pela tabela, podemos observar que as variáveis tempo de contrato e valor total pago possuem uma correlação mais forte."
      ]
    },
    {
      "attachments": {},
      "cell_type": "markdown",
      "metadata": {
        "id": "UVZOcWgh0T67"
      },
      "source": [
        "https://cursos.alura.com.br/course/machine-learning-classificacao-tras-panos/task/107926  - dados desbalanceados"
      ]
    },
    {
      "attachments": {},
      "cell_type": "markdown",
      "metadata": {},
      "source": [
        "# Semana 3 - Modelo de Classificação de Churn"
      ]
    },
    {
      "attachments": {},
      "cell_type": "markdown",
      "metadata": {},
      "source": [
        "## Encoding das variáveis categóricas"
      ]
    },
    {
      "cell_type": "code",
      "execution_count": 40,
      "metadata": {},
      "outputs": [
        {
          "data": {
            "text/html": [
              "<div>\n",
              "<style scoped>\n",
              "    .dataframe tbody tr th:only-of-type {\n",
              "        vertical-align: middle;\n",
              "    }\n",
              "\n",
              "    .dataframe tbody tr th {\n",
              "        vertical-align: top;\n",
              "    }\n",
              "\n",
              "    .dataframe thead th {\n",
              "        text-align: right;\n",
              "    }\n",
              "</style>\n",
              "<table border=\"1\" class=\"dataframe\">\n",
              "  <thead>\n",
              "    <tr style=\"text-align: right;\">\n",
              "      <th></th>\n",
              "      <th>id_cliente</th>\n",
              "      <th>churn</th>\n",
              "      <th>genero</th>\n",
              "      <th>idoso</th>\n",
              "      <th>possui_parceiro</th>\n",
              "      <th>possui_dependentes</th>\n",
              "      <th>meses_contrato</th>\n",
              "      <th>assina_telefone</th>\n",
              "      <th>linhas_multiplas</th>\n",
              "      <th>aasinatura_provedor_internet</th>\n",
              "      <th>assinatura_seguranca</th>\n",
              "      <th>assinatura_backup</th>\n",
              "      <th>assinatura_protecao_dispositivo</th>\n",
              "      <th>assinatura_suporte_tecnico</th>\n",
              "      <th>assinatura_tv_cabo</th>\n",
              "      <th>assinatura_streaming_filmes</th>\n",
              "      <th>tipo_contrato</th>\n",
              "      <th>fatura_online</th>\n",
              "      <th>forma_pagamento</th>\n",
              "      <th>valor_fatura_mensal</th>\n",
              "      <th>valor_total_pago</th>\n",
              "      <th>valor_gasto_diario</th>\n",
              "    </tr>\n",
              "  </thead>\n",
              "  <tbody>\n",
              "    <tr>\n",
              "      <th>0</th>\n",
              "      <td>0002-ORFBO</td>\n",
              "      <td>No</td>\n",
              "      <td>Female</td>\n",
              "      <td>0</td>\n",
              "      <td>Yes</td>\n",
              "      <td>Yes</td>\n",
              "      <td>9</td>\n",
              "      <td>Yes</td>\n",
              "      <td>No</td>\n",
              "      <td>DSL</td>\n",
              "      <td>No</td>\n",
              "      <td>Yes</td>\n",
              "      <td>No</td>\n",
              "      <td>Yes</td>\n",
              "      <td>Yes</td>\n",
              "      <td>No</td>\n",
              "      <td>One year</td>\n",
              "      <td>Yes</td>\n",
              "      <td>Mailed check</td>\n",
              "      <td>65.6</td>\n",
              "      <td>593.30</td>\n",
              "      <td>2.19</td>\n",
              "    </tr>\n",
              "    <tr>\n",
              "      <th>1</th>\n",
              "      <td>0003-MKNFE</td>\n",
              "      <td>No</td>\n",
              "      <td>Male</td>\n",
              "      <td>0</td>\n",
              "      <td>No</td>\n",
              "      <td>No</td>\n",
              "      <td>9</td>\n",
              "      <td>Yes</td>\n",
              "      <td>Yes</td>\n",
              "      <td>DSL</td>\n",
              "      <td>No</td>\n",
              "      <td>No</td>\n",
              "      <td>No</td>\n",
              "      <td>No</td>\n",
              "      <td>No</td>\n",
              "      <td>Yes</td>\n",
              "      <td>Month-to-month</td>\n",
              "      <td>No</td>\n",
              "      <td>Mailed check</td>\n",
              "      <td>59.9</td>\n",
              "      <td>542.40</td>\n",
              "      <td>2.00</td>\n",
              "    </tr>\n",
              "    <tr>\n",
              "      <th>2</th>\n",
              "      <td>0004-TLHLJ</td>\n",
              "      <td>Yes</td>\n",
              "      <td>Male</td>\n",
              "      <td>0</td>\n",
              "      <td>No</td>\n",
              "      <td>No</td>\n",
              "      <td>4</td>\n",
              "      <td>Yes</td>\n",
              "      <td>No</td>\n",
              "      <td>Fiber optic</td>\n",
              "      <td>No</td>\n",
              "      <td>No</td>\n",
              "      <td>Yes</td>\n",
              "      <td>No</td>\n",
              "      <td>No</td>\n",
              "      <td>No</td>\n",
              "      <td>Month-to-month</td>\n",
              "      <td>Yes</td>\n",
              "      <td>Electronic check</td>\n",
              "      <td>73.9</td>\n",
              "      <td>280.85</td>\n",
              "      <td>2.46</td>\n",
              "    </tr>\n",
              "    <tr>\n",
              "      <th>3</th>\n",
              "      <td>0011-IGKFF</td>\n",
              "      <td>Yes</td>\n",
              "      <td>Male</td>\n",
              "      <td>1</td>\n",
              "      <td>Yes</td>\n",
              "      <td>No</td>\n",
              "      <td>13</td>\n",
              "      <td>Yes</td>\n",
              "      <td>No</td>\n",
              "      <td>Fiber optic</td>\n",
              "      <td>No</td>\n",
              "      <td>Yes</td>\n",
              "      <td>Yes</td>\n",
              "      <td>No</td>\n",
              "      <td>Yes</td>\n",
              "      <td>Yes</td>\n",
              "      <td>Month-to-month</td>\n",
              "      <td>Yes</td>\n",
              "      <td>Electronic check</td>\n",
              "      <td>98.0</td>\n",
              "      <td>1237.85</td>\n",
              "      <td>3.27</td>\n",
              "    </tr>\n",
              "    <tr>\n",
              "      <th>4</th>\n",
              "      <td>0013-EXCHZ</td>\n",
              "      <td>Yes</td>\n",
              "      <td>Female</td>\n",
              "      <td>1</td>\n",
              "      <td>Yes</td>\n",
              "      <td>No</td>\n",
              "      <td>3</td>\n",
              "      <td>Yes</td>\n",
              "      <td>No</td>\n",
              "      <td>Fiber optic</td>\n",
              "      <td>No</td>\n",
              "      <td>No</td>\n",
              "      <td>No</td>\n",
              "      <td>Yes</td>\n",
              "      <td>Yes</td>\n",
              "      <td>No</td>\n",
              "      <td>Month-to-month</td>\n",
              "      <td>Yes</td>\n",
              "      <td>Mailed check</td>\n",
              "      <td>83.9</td>\n",
              "      <td>267.40</td>\n",
              "      <td>2.80</td>\n",
              "    </tr>\n",
              "  </tbody>\n",
              "</table>\n",
              "</div>"
            ],
            "text/plain": [
              "   id_cliente churn  genero  idoso possui_parceiro possui_dependentes  \\\n",
              "0  0002-ORFBO    No  Female      0             Yes                Yes   \n",
              "1  0003-MKNFE    No    Male      0              No                 No   \n",
              "2  0004-TLHLJ   Yes    Male      0              No                 No   \n",
              "3  0011-IGKFF   Yes    Male      1             Yes                 No   \n",
              "4  0013-EXCHZ   Yes  Female      1             Yes                 No   \n",
              "\n",
              "   meses_contrato assina_telefone linhas_multiplas  \\\n",
              "0               9             Yes               No   \n",
              "1               9             Yes              Yes   \n",
              "2               4             Yes               No   \n",
              "3              13             Yes               No   \n",
              "4               3             Yes               No   \n",
              "\n",
              "  aasinatura_provedor_internet assinatura_seguranca assinatura_backup  \\\n",
              "0                          DSL                   No               Yes   \n",
              "1                          DSL                   No                No   \n",
              "2                  Fiber optic                   No                No   \n",
              "3                  Fiber optic                   No               Yes   \n",
              "4                  Fiber optic                   No                No   \n",
              "\n",
              "  assinatura_protecao_dispositivo assinatura_suporte_tecnico  \\\n",
              "0                              No                        Yes   \n",
              "1                              No                         No   \n",
              "2                             Yes                         No   \n",
              "3                             Yes                         No   \n",
              "4                              No                        Yes   \n",
              "\n",
              "  assinatura_tv_cabo assinatura_streaming_filmes   tipo_contrato  \\\n",
              "0                Yes                          No        One year   \n",
              "1                 No                         Yes  Month-to-month   \n",
              "2                 No                          No  Month-to-month   \n",
              "3                Yes                         Yes  Month-to-month   \n",
              "4                Yes                          No  Month-to-month   \n",
              "\n",
              "  fatura_online   forma_pagamento  valor_fatura_mensal  valor_total_pago  \\\n",
              "0           Yes      Mailed check                 65.6            593.30   \n",
              "1            No      Mailed check                 59.9            542.40   \n",
              "2           Yes  Electronic check                 73.9            280.85   \n",
              "3           Yes  Electronic check                 98.0           1237.85   \n",
              "4           Yes      Mailed check                 83.9            267.40   \n",
              "\n",
              "   valor_gasto_diario  \n",
              "0                2.19  \n",
              "1                2.00  \n",
              "2                2.46  \n",
              "3                3.27  \n",
              "4                2.80  "
            ]
          },
          "execution_count": 40,
          "metadata": {},
          "output_type": "execute_result"
        }
      ],
      "source": [
        "dados_normalizados.head()"
      ]
    },
    {
      "cell_type": "code",
      "execution_count": 41,
      "metadata": {},
      "outputs": [
        {
          "data": {
            "text/html": [
              "<div>\n",
              "<style scoped>\n",
              "    .dataframe tbody tr th:only-of-type {\n",
              "        vertical-align: middle;\n",
              "    }\n",
              "\n",
              "    .dataframe tbody tr th {\n",
              "        vertical-align: top;\n",
              "    }\n",
              "\n",
              "    .dataframe thead th {\n",
              "        text-align: right;\n",
              "    }\n",
              "</style>\n",
              "<table border=\"1\" class=\"dataframe\">\n",
              "  <thead>\n",
              "    <tr style=\"text-align: right;\">\n",
              "      <th></th>\n",
              "      <th>churn</th>\n",
              "      <th>genero</th>\n",
              "      <th>possui_parceiro</th>\n",
              "      <th>possui_dependentes</th>\n",
              "      <th>assina_telefone</th>\n",
              "      <th>fatura_online</th>\n",
              "      <th>idoso</th>\n",
              "      <th>meses_contrato</th>\n",
              "      <th>valor_fatura_mensal</th>\n",
              "      <th>valor_total_pago</th>\n",
              "      <th>valor_gasto_diario</th>\n",
              "      <th>linhas_multiplas_No</th>\n",
              "      <th>linhas_multiplas_No phone service</th>\n",
              "      <th>linhas_multiplas_Yes</th>\n",
              "      <th>aasinatura_provedor_internet_DSL</th>\n",
              "      <th>aasinatura_provedor_internet_Fiber optic</th>\n",
              "      <th>aasinatura_provedor_internet_No</th>\n",
              "      <th>assinatura_seguranca_No</th>\n",
              "      <th>assinatura_seguranca_No internet service</th>\n",
              "      <th>assinatura_seguranca_Yes</th>\n",
              "      <th>assinatura_backup_No</th>\n",
              "      <th>assinatura_backup_No internet service</th>\n",
              "      <th>assinatura_backup_Yes</th>\n",
              "      <th>assinatura_protecao_dispositivo_No</th>\n",
              "      <th>assinatura_protecao_dispositivo_No internet service</th>\n",
              "      <th>assinatura_protecao_dispositivo_Yes</th>\n",
              "      <th>assinatura_suporte_tecnico_No</th>\n",
              "      <th>assinatura_suporte_tecnico_No internet service</th>\n",
              "      <th>assinatura_suporte_tecnico_Yes</th>\n",
              "      <th>assinatura_tv_cabo_No</th>\n",
              "      <th>assinatura_tv_cabo_No internet service</th>\n",
              "      <th>assinatura_tv_cabo_Yes</th>\n",
              "      <th>assinatura_streaming_filmes_No</th>\n",
              "      <th>assinatura_streaming_filmes_No internet service</th>\n",
              "      <th>assinatura_streaming_filmes_Yes</th>\n",
              "      <th>tipo_contrato_Month-to-month</th>\n",
              "      <th>tipo_contrato_One year</th>\n",
              "      <th>tipo_contrato_Two year</th>\n",
              "      <th>forma_pagamento_Bank transfer (automatic)</th>\n",
              "      <th>forma_pagamento_Credit card (automatic)</th>\n",
              "      <th>forma_pagamento_Electronic check</th>\n",
              "      <th>forma_pagamento_Mailed check</th>\n",
              "    </tr>\n",
              "  </thead>\n",
              "  <tbody>\n",
              "    <tr>\n",
              "      <th>0</th>\n",
              "      <td>0</td>\n",
              "      <td>0</td>\n",
              "      <td>1</td>\n",
              "      <td>1</td>\n",
              "      <td>1</td>\n",
              "      <td>1</td>\n",
              "      <td>0</td>\n",
              "      <td>9</td>\n",
              "      <td>65.6</td>\n",
              "      <td>593.30</td>\n",
              "      <td>2.19</td>\n",
              "      <td>1</td>\n",
              "      <td>0</td>\n",
              "      <td>0</td>\n",
              "      <td>1</td>\n",
              "      <td>0</td>\n",
              "      <td>0</td>\n",
              "      <td>1</td>\n",
              "      <td>0</td>\n",
              "      <td>0</td>\n",
              "      <td>0</td>\n",
              "      <td>0</td>\n",
              "      <td>1</td>\n",
              "      <td>1</td>\n",
              "      <td>0</td>\n",
              "      <td>0</td>\n",
              "      <td>0</td>\n",
              "      <td>0</td>\n",
              "      <td>1</td>\n",
              "      <td>0</td>\n",
              "      <td>0</td>\n",
              "      <td>1</td>\n",
              "      <td>1</td>\n",
              "      <td>0</td>\n",
              "      <td>0</td>\n",
              "      <td>0</td>\n",
              "      <td>1</td>\n",
              "      <td>0</td>\n",
              "      <td>0</td>\n",
              "      <td>0</td>\n",
              "      <td>0</td>\n",
              "      <td>1</td>\n",
              "    </tr>\n",
              "    <tr>\n",
              "      <th>1</th>\n",
              "      <td>0</td>\n",
              "      <td>1</td>\n",
              "      <td>0</td>\n",
              "      <td>0</td>\n",
              "      <td>1</td>\n",
              "      <td>0</td>\n",
              "      <td>0</td>\n",
              "      <td>9</td>\n",
              "      <td>59.9</td>\n",
              "      <td>542.40</td>\n",
              "      <td>2.00</td>\n",
              "      <td>0</td>\n",
              "      <td>0</td>\n",
              "      <td>1</td>\n",
              "      <td>1</td>\n",
              "      <td>0</td>\n",
              "      <td>0</td>\n",
              "      <td>1</td>\n",
              "      <td>0</td>\n",
              "      <td>0</td>\n",
              "      <td>1</td>\n",
              "      <td>0</td>\n",
              "      <td>0</td>\n",
              "      <td>1</td>\n",
              "      <td>0</td>\n",
              "      <td>0</td>\n",
              "      <td>1</td>\n",
              "      <td>0</td>\n",
              "      <td>0</td>\n",
              "      <td>1</td>\n",
              "      <td>0</td>\n",
              "      <td>0</td>\n",
              "      <td>0</td>\n",
              "      <td>0</td>\n",
              "      <td>1</td>\n",
              "      <td>1</td>\n",
              "      <td>0</td>\n",
              "      <td>0</td>\n",
              "      <td>0</td>\n",
              "      <td>0</td>\n",
              "      <td>0</td>\n",
              "      <td>1</td>\n",
              "    </tr>\n",
              "    <tr>\n",
              "      <th>2</th>\n",
              "      <td>1</td>\n",
              "      <td>1</td>\n",
              "      <td>0</td>\n",
              "      <td>0</td>\n",
              "      <td>1</td>\n",
              "      <td>1</td>\n",
              "      <td>0</td>\n",
              "      <td>4</td>\n",
              "      <td>73.9</td>\n",
              "      <td>280.85</td>\n",
              "      <td>2.46</td>\n",
              "      <td>1</td>\n",
              "      <td>0</td>\n",
              "      <td>0</td>\n",
              "      <td>0</td>\n",
              "      <td>1</td>\n",
              "      <td>0</td>\n",
              "      <td>1</td>\n",
              "      <td>0</td>\n",
              "      <td>0</td>\n",
              "      <td>1</td>\n",
              "      <td>0</td>\n",
              "      <td>0</td>\n",
              "      <td>0</td>\n",
              "      <td>0</td>\n",
              "      <td>1</td>\n",
              "      <td>1</td>\n",
              "      <td>0</td>\n",
              "      <td>0</td>\n",
              "      <td>1</td>\n",
              "      <td>0</td>\n",
              "      <td>0</td>\n",
              "      <td>1</td>\n",
              "      <td>0</td>\n",
              "      <td>0</td>\n",
              "      <td>1</td>\n",
              "      <td>0</td>\n",
              "      <td>0</td>\n",
              "      <td>0</td>\n",
              "      <td>0</td>\n",
              "      <td>1</td>\n",
              "      <td>0</td>\n",
              "    </tr>\n",
              "    <tr>\n",
              "      <th>3</th>\n",
              "      <td>1</td>\n",
              "      <td>1</td>\n",
              "      <td>1</td>\n",
              "      <td>0</td>\n",
              "      <td>1</td>\n",
              "      <td>1</td>\n",
              "      <td>1</td>\n",
              "      <td>13</td>\n",
              "      <td>98.0</td>\n",
              "      <td>1237.85</td>\n",
              "      <td>3.27</td>\n",
              "      <td>1</td>\n",
              "      <td>0</td>\n",
              "      <td>0</td>\n",
              "      <td>0</td>\n",
              "      <td>1</td>\n",
              "      <td>0</td>\n",
              "      <td>1</td>\n",
              "      <td>0</td>\n",
              "      <td>0</td>\n",
              "      <td>0</td>\n",
              "      <td>0</td>\n",
              "      <td>1</td>\n",
              "      <td>0</td>\n",
              "      <td>0</td>\n",
              "      <td>1</td>\n",
              "      <td>1</td>\n",
              "      <td>0</td>\n",
              "      <td>0</td>\n",
              "      <td>0</td>\n",
              "      <td>0</td>\n",
              "      <td>1</td>\n",
              "      <td>0</td>\n",
              "      <td>0</td>\n",
              "      <td>1</td>\n",
              "      <td>1</td>\n",
              "      <td>0</td>\n",
              "      <td>0</td>\n",
              "      <td>0</td>\n",
              "      <td>0</td>\n",
              "      <td>1</td>\n",
              "      <td>0</td>\n",
              "    </tr>\n",
              "    <tr>\n",
              "      <th>4</th>\n",
              "      <td>1</td>\n",
              "      <td>0</td>\n",
              "      <td>1</td>\n",
              "      <td>0</td>\n",
              "      <td>1</td>\n",
              "      <td>1</td>\n",
              "      <td>1</td>\n",
              "      <td>3</td>\n",
              "      <td>83.9</td>\n",
              "      <td>267.40</td>\n",
              "      <td>2.80</td>\n",
              "      <td>1</td>\n",
              "      <td>0</td>\n",
              "      <td>0</td>\n",
              "      <td>0</td>\n",
              "      <td>1</td>\n",
              "      <td>0</td>\n",
              "      <td>1</td>\n",
              "      <td>0</td>\n",
              "      <td>0</td>\n",
              "      <td>1</td>\n",
              "      <td>0</td>\n",
              "      <td>0</td>\n",
              "      <td>1</td>\n",
              "      <td>0</td>\n",
              "      <td>0</td>\n",
              "      <td>0</td>\n",
              "      <td>0</td>\n",
              "      <td>1</td>\n",
              "      <td>0</td>\n",
              "      <td>0</td>\n",
              "      <td>1</td>\n",
              "      <td>1</td>\n",
              "      <td>0</td>\n",
              "      <td>0</td>\n",
              "      <td>1</td>\n",
              "      <td>0</td>\n",
              "      <td>0</td>\n",
              "      <td>0</td>\n",
              "      <td>0</td>\n",
              "      <td>0</td>\n",
              "      <td>1</td>\n",
              "    </tr>\n",
              "  </tbody>\n",
              "</table>\n",
              "</div>"
            ],
            "text/plain": [
              "   churn  genero  possui_parceiro  possui_dependentes  assina_telefone  \\\n",
              "0      0       0                1                   1                1   \n",
              "1      0       1                0                   0                1   \n",
              "2      1       1                0                   0                1   \n",
              "3      1       1                1                   0                1   \n",
              "4      1       0                1                   0                1   \n",
              "\n",
              "   fatura_online  idoso  meses_contrato  valor_fatura_mensal  \\\n",
              "0              1      0               9                 65.6   \n",
              "1              0      0               9                 59.9   \n",
              "2              1      0               4                 73.9   \n",
              "3              1      1              13                 98.0   \n",
              "4              1      1               3                 83.9   \n",
              "\n",
              "   valor_total_pago  valor_gasto_diario  linhas_multiplas_No  \\\n",
              "0            593.30                2.19                    1   \n",
              "1            542.40                2.00                    0   \n",
              "2            280.85                2.46                    1   \n",
              "3           1237.85                3.27                    1   \n",
              "4            267.40                2.80                    1   \n",
              "\n",
              "   linhas_multiplas_No phone service  linhas_multiplas_Yes  \\\n",
              "0                                  0                     0   \n",
              "1                                  0                     1   \n",
              "2                                  0                     0   \n",
              "3                                  0                     0   \n",
              "4                                  0                     0   \n",
              "\n",
              "   aasinatura_provedor_internet_DSL  aasinatura_provedor_internet_Fiber optic  \\\n",
              "0                                 1                                         0   \n",
              "1                                 1                                         0   \n",
              "2                                 0                                         1   \n",
              "3                                 0                                         1   \n",
              "4                                 0                                         1   \n",
              "\n",
              "   aasinatura_provedor_internet_No  assinatura_seguranca_No  \\\n",
              "0                                0                        1   \n",
              "1                                0                        1   \n",
              "2                                0                        1   \n",
              "3                                0                        1   \n",
              "4                                0                        1   \n",
              "\n",
              "   assinatura_seguranca_No internet service  assinatura_seguranca_Yes  \\\n",
              "0                                         0                         0   \n",
              "1                                         0                         0   \n",
              "2                                         0                         0   \n",
              "3                                         0                         0   \n",
              "4                                         0                         0   \n",
              "\n",
              "   assinatura_backup_No  assinatura_backup_No internet service  \\\n",
              "0                     0                                      0   \n",
              "1                     1                                      0   \n",
              "2                     1                                      0   \n",
              "3                     0                                      0   \n",
              "4                     1                                      0   \n",
              "\n",
              "   assinatura_backup_Yes  assinatura_protecao_dispositivo_No  \\\n",
              "0                      1                                   1   \n",
              "1                      0                                   1   \n",
              "2                      0                                   0   \n",
              "3                      1                                   0   \n",
              "4                      0                                   1   \n",
              "\n",
              "   assinatura_protecao_dispositivo_No internet service  \\\n",
              "0                                                  0     \n",
              "1                                                  0     \n",
              "2                                                  0     \n",
              "3                                                  0     \n",
              "4                                                  0     \n",
              "\n",
              "   assinatura_protecao_dispositivo_Yes  assinatura_suporte_tecnico_No  \\\n",
              "0                                    0                              0   \n",
              "1                                    0                              1   \n",
              "2                                    1                              1   \n",
              "3                                    1                              1   \n",
              "4                                    0                              0   \n",
              "\n",
              "   assinatura_suporte_tecnico_No internet service  \\\n",
              "0                                               0   \n",
              "1                                               0   \n",
              "2                                               0   \n",
              "3                                               0   \n",
              "4                                               0   \n",
              "\n",
              "   assinatura_suporte_tecnico_Yes  assinatura_tv_cabo_No  \\\n",
              "0                               1                      0   \n",
              "1                               0                      1   \n",
              "2                               0                      1   \n",
              "3                               0                      0   \n",
              "4                               1                      0   \n",
              "\n",
              "   assinatura_tv_cabo_No internet service  assinatura_tv_cabo_Yes  \\\n",
              "0                                       0                       1   \n",
              "1                                       0                       0   \n",
              "2                                       0                       0   \n",
              "3                                       0                       1   \n",
              "4                                       0                       1   \n",
              "\n",
              "   assinatura_streaming_filmes_No  \\\n",
              "0                               1   \n",
              "1                               0   \n",
              "2                               1   \n",
              "3                               0   \n",
              "4                               1   \n",
              "\n",
              "   assinatura_streaming_filmes_No internet service  \\\n",
              "0                                                0   \n",
              "1                                                0   \n",
              "2                                                0   \n",
              "3                                                0   \n",
              "4                                                0   \n",
              "\n",
              "   assinatura_streaming_filmes_Yes  tipo_contrato_Month-to-month  \\\n",
              "0                                0                             0   \n",
              "1                                1                             1   \n",
              "2                                0                             1   \n",
              "3                                1                             1   \n",
              "4                                0                             1   \n",
              "\n",
              "   tipo_contrato_One year  tipo_contrato_Two year  \\\n",
              "0                       1                       0   \n",
              "1                       0                       0   \n",
              "2                       0                       0   \n",
              "3                       0                       0   \n",
              "4                       0                       0   \n",
              "\n",
              "   forma_pagamento_Bank transfer (automatic)  \\\n",
              "0                                          0   \n",
              "1                                          0   \n",
              "2                                          0   \n",
              "3                                          0   \n",
              "4                                          0   \n",
              "\n",
              "   forma_pagamento_Credit card (automatic)  forma_pagamento_Electronic check  \\\n",
              "0                                        0                                 0   \n",
              "1                                        0                                 0   \n",
              "2                                        0                                 1   \n",
              "3                                        0                                 1   \n",
              "4                                        0                                 0   \n",
              "\n",
              "   forma_pagamento_Mailed check  \n",
              "0                             1  \n",
              "1                             1  \n",
              "2                             0  \n",
              "3                             0  \n",
              "4                             1  "
            ]
          },
          "execution_count": 41,
          "metadata": {},
          "output_type": "execute_result"
        }
      ],
      "source": [
        "map_geral = {\n",
        "    'Yes':1,\n",
        "    'No':0,\n",
        "    'Male':1,\n",
        "    'Female':0\n",
        "}\n",
        "    \n",
        "dados_map_geral = dados_normalizados[['churn','genero','possui_parceiro','possui_dependentes','assina_telefone','fatura_online']].replace(map_geral)\n",
        "dummies = pd.get_dummies(dados_normalizados.drop(['id_cliente','churn','possui_parceiro','possui_dependentes','assina_telefone','fatura_online','genero'], axis='columns'))\n",
        "dados_encoding = pd.concat([dados_map_geral, dummies], axis='columns')\n",
        "dados_encoding.head()"
      ]
    },
    {
      "attachments": {},
      "cell_type": "markdown",
      "metadata": {},
      "source": [
        "## Verificando o balanceamento da variável target"
      ]
    },
    {
      "cell_type": "code",
      "execution_count": 42,
      "metadata": {},
      "outputs": [
        {
          "data": {
            "text/plain": [
              "Text(0, 0.5, 'Quantidade de clientes')"
            ]
          },
          "execution_count": 42,
          "metadata": {},
          "output_type": "execute_result"
        },
        {
          "data": {
            "image/png": "[encoded data removed]",
            "text/plain": [
              "<Figure size 1000x500 with 1 Axes>"
            ]
          },
          "metadata": {},
          "output_type": "display_data"
        }
      ],
      "source": [
        "ax = sns.countplot(x='churn', data=dados_encoding)\n",
        "ax.figure.set_size_inches(10,5)\n",
        "ax.set_title('Balanceamento da Variável Churn', fontsize=18, loc='left')\n",
        "ax.set_xlabel('Churn', fontsize=14)\n",
        "ax.set_ylabel('Quantidade de clientes', fontsize=14)\n"
      ]
    },
    {
      "attachments": {},
      "cell_type": "markdown",
      "metadata": {},
      "source": [
        "Há mais do que o dobro de ocorrências de churn não do que sim. Isso pode prejudicar o aprendizado dos modelos de classificação, de forma que haverá mais dados de churn não para o modelo."
      ]
    },
    {
      "cell_type": "code",
      "execution_count": 43,
      "metadata": {},
      "outputs": [
        {
          "data": {
            "text/html": [
              "<div>\n",
              "<style scoped>\n",
              "    .dataframe tbody tr th:only-of-type {\n",
              "        vertical-align: middle;\n",
              "    }\n",
              "\n",
              "    .dataframe tbody tr th {\n",
              "        vertical-align: top;\n",
              "    }\n",
              "\n",
              "    .dataframe thead th {\n",
              "        text-align: right;\n",
              "    }\n",
              "</style>\n",
              "<table border=\"1\" class=\"dataframe\">\n",
              "  <thead>\n",
              "    <tr style=\"text-align: right;\">\n",
              "      <th></th>\n",
              "      <th>genero</th>\n",
              "      <th>possui_parceiro</th>\n",
              "      <th>possui_dependentes</th>\n",
              "      <th>assina_telefone</th>\n",
              "      <th>fatura_online</th>\n",
              "      <th>idoso</th>\n",
              "      <th>meses_contrato</th>\n",
              "      <th>valor_fatura_mensal</th>\n",
              "      <th>valor_total_pago</th>\n",
              "      <th>valor_gasto_diario</th>\n",
              "      <th>linhas_multiplas_No</th>\n",
              "      <th>linhas_multiplas_No phone service</th>\n",
              "      <th>linhas_multiplas_Yes</th>\n",
              "      <th>aasinatura_provedor_internet_DSL</th>\n",
              "      <th>aasinatura_provedor_internet_Fiber optic</th>\n",
              "      <th>aasinatura_provedor_internet_No</th>\n",
              "      <th>assinatura_seguranca_No</th>\n",
              "      <th>assinatura_seguranca_No internet service</th>\n",
              "      <th>assinatura_seguranca_Yes</th>\n",
              "      <th>assinatura_backup_No</th>\n",
              "      <th>assinatura_backup_No internet service</th>\n",
              "      <th>assinatura_backup_Yes</th>\n",
              "      <th>assinatura_protecao_dispositivo_No</th>\n",
              "      <th>assinatura_protecao_dispositivo_No internet service</th>\n",
              "      <th>assinatura_protecao_dispositivo_Yes</th>\n",
              "      <th>assinatura_suporte_tecnico_No</th>\n",
              "      <th>assinatura_suporte_tecnico_No internet service</th>\n",
              "      <th>assinatura_suporte_tecnico_Yes</th>\n",
              "      <th>assinatura_tv_cabo_No</th>\n",
              "      <th>assinatura_tv_cabo_No internet service</th>\n",
              "      <th>assinatura_tv_cabo_Yes</th>\n",
              "      <th>assinatura_streaming_filmes_No</th>\n",
              "      <th>assinatura_streaming_filmes_No internet service</th>\n",
              "      <th>assinatura_streaming_filmes_Yes</th>\n",
              "      <th>tipo_contrato_Month-to-month</th>\n",
              "      <th>tipo_contrato_One year</th>\n",
              "      <th>tipo_contrato_Two year</th>\n",
              "      <th>forma_pagamento_Bank transfer (automatic)</th>\n",
              "      <th>forma_pagamento_Credit card (automatic)</th>\n",
              "      <th>forma_pagamento_Electronic check</th>\n",
              "      <th>forma_pagamento_Mailed check</th>\n",
              "      <th>churn</th>\n",
              "    </tr>\n",
              "  </thead>\n",
              "  <tbody>\n",
              "    <tr>\n",
              "      <th>0</th>\n",
              "      <td>0</td>\n",
              "      <td>1</td>\n",
              "      <td>1</td>\n",
              "      <td>1</td>\n",
              "      <td>1</td>\n",
              "      <td>0</td>\n",
              "      <td>9</td>\n",
              "      <td>65.6</td>\n",
              "      <td>593.30</td>\n",
              "      <td>2.19</td>\n",
              "      <td>1</td>\n",
              "      <td>0</td>\n",
              "      <td>0</td>\n",
              "      <td>1</td>\n",
              "      <td>0</td>\n",
              "      <td>0</td>\n",
              "      <td>1</td>\n",
              "      <td>0</td>\n",
              "      <td>0</td>\n",
              "      <td>0</td>\n",
              "      <td>0</td>\n",
              "      <td>1</td>\n",
              "      <td>1</td>\n",
              "      <td>0</td>\n",
              "      <td>0</td>\n",
              "      <td>0</td>\n",
              "      <td>0</td>\n",
              "      <td>1</td>\n",
              "      <td>0</td>\n",
              "      <td>0</td>\n",
              "      <td>1</td>\n",
              "      <td>1</td>\n",
              "      <td>0</td>\n",
              "      <td>0</td>\n",
              "      <td>0</td>\n",
              "      <td>1</td>\n",
              "      <td>0</td>\n",
              "      <td>0</td>\n",
              "      <td>0</td>\n",
              "      <td>0</td>\n",
              "      <td>1</td>\n",
              "      <td>0</td>\n",
              "    </tr>\n",
              "    <tr>\n",
              "      <th>1</th>\n",
              "      <td>1</td>\n",
              "      <td>0</td>\n",
              "      <td>0</td>\n",
              "      <td>1</td>\n",
              "      <td>0</td>\n",
              "      <td>0</td>\n",
              "      <td>9</td>\n",
              "      <td>59.9</td>\n",
              "      <td>542.40</td>\n",
              "      <td>2.00</td>\n",
              "      <td>0</td>\n",
              "      <td>0</td>\n",
              "      <td>1</td>\n",
              "      <td>1</td>\n",
              "      <td>0</td>\n",
              "      <td>0</td>\n",
              "      <td>1</td>\n",
              "      <td>0</td>\n",
              "      <td>0</td>\n",
              "      <td>1</td>\n",
              "      <td>0</td>\n",
              "      <td>0</td>\n",
              "      <td>1</td>\n",
              "      <td>0</td>\n",
              "      <td>0</td>\n",
              "      <td>1</td>\n",
              "      <td>0</td>\n",
              "      <td>0</td>\n",
              "      <td>1</td>\n",
              "      <td>0</td>\n",
              "      <td>0</td>\n",
              "      <td>0</td>\n",
              "      <td>0</td>\n",
              "      <td>1</td>\n",
              "      <td>1</td>\n",
              "      <td>0</td>\n",
              "      <td>0</td>\n",
              "      <td>0</td>\n",
              "      <td>0</td>\n",
              "      <td>0</td>\n",
              "      <td>1</td>\n",
              "      <td>0</td>\n",
              "    </tr>\n",
              "    <tr>\n",
              "      <th>2</th>\n",
              "      <td>1</td>\n",
              "      <td>0</td>\n",
              "      <td>0</td>\n",
              "      <td>1</td>\n",
              "      <td>1</td>\n",
              "      <td>0</td>\n",
              "      <td>4</td>\n",
              "      <td>73.9</td>\n",
              "      <td>280.85</td>\n",
              "      <td>2.46</td>\n",
              "      <td>1</td>\n",
              "      <td>0</td>\n",
              "      <td>0</td>\n",
              "      <td>0</td>\n",
              "      <td>1</td>\n",
              "      <td>0</td>\n",
              "      <td>1</td>\n",
              "      <td>0</td>\n",
              "      <td>0</td>\n",
              "      <td>1</td>\n",
              "      <td>0</td>\n",
              "      <td>0</td>\n",
              "      <td>0</td>\n",
              "      <td>0</td>\n",
              "      <td>1</td>\n",
              "      <td>1</td>\n",
              "      <td>0</td>\n",
              "      <td>0</td>\n",
              "      <td>1</td>\n",
              "      <td>0</td>\n",
              "      <td>0</td>\n",
              "      <td>1</td>\n",
              "      <td>0</td>\n",
              "      <td>0</td>\n",
              "      <td>1</td>\n",
              "      <td>0</td>\n",
              "      <td>0</td>\n",
              "      <td>0</td>\n",
              "      <td>0</td>\n",
              "      <td>1</td>\n",
              "      <td>0</td>\n",
              "      <td>1</td>\n",
              "    </tr>\n",
              "    <tr>\n",
              "      <th>3</th>\n",
              "      <td>1</td>\n",
              "      <td>1</td>\n",
              "      <td>0</td>\n",
              "      <td>1</td>\n",
              "      <td>1</td>\n",
              "      <td>1</td>\n",
              "      <td>13</td>\n",
              "      <td>98.0</td>\n",
              "      <td>1237.85</td>\n",
              "      <td>3.27</td>\n",
              "      <td>1</td>\n",
              "      <td>0</td>\n",
              "      <td>0</td>\n",
              "      <td>0</td>\n",
              "      <td>1</td>\n",
              "      <td>0</td>\n",
              "      <td>1</td>\n",
              "      <td>0</td>\n",
              "      <td>0</td>\n",
              "      <td>0</td>\n",
              "      <td>0</td>\n",
              "      <td>1</td>\n",
              "      <td>0</td>\n",
              "      <td>0</td>\n",
              "      <td>1</td>\n",
              "      <td>1</td>\n",
              "      <td>0</td>\n",
              "      <td>0</td>\n",
              "      <td>0</td>\n",
              "      <td>0</td>\n",
              "      <td>1</td>\n",
              "      <td>0</td>\n",
              "      <td>0</td>\n",
              "      <td>1</td>\n",
              "      <td>1</td>\n",
              "      <td>0</td>\n",
              "      <td>0</td>\n",
              "      <td>0</td>\n",
              "      <td>0</td>\n",
              "      <td>1</td>\n",
              "      <td>0</td>\n",
              "      <td>1</td>\n",
              "    </tr>\n",
              "    <tr>\n",
              "      <th>4</th>\n",
              "      <td>0</td>\n",
              "      <td>1</td>\n",
              "      <td>0</td>\n",
              "      <td>1</td>\n",
              "      <td>1</td>\n",
              "      <td>1</td>\n",
              "      <td>3</td>\n",
              "      <td>83.9</td>\n",
              "      <td>267.40</td>\n",
              "      <td>2.80</td>\n",
              "      <td>1</td>\n",
              "      <td>0</td>\n",
              "      <td>0</td>\n",
              "      <td>0</td>\n",
              "      <td>1</td>\n",
              "      <td>0</td>\n",
              "      <td>1</td>\n",
              "      <td>0</td>\n",
              "      <td>0</td>\n",
              "      <td>1</td>\n",
              "      <td>0</td>\n",
              "      <td>0</td>\n",
              "      <td>1</td>\n",
              "      <td>0</td>\n",
              "      <td>0</td>\n",
              "      <td>0</td>\n",
              "      <td>0</td>\n",
              "      <td>1</td>\n",
              "      <td>0</td>\n",
              "      <td>0</td>\n",
              "      <td>1</td>\n",
              "      <td>1</td>\n",
              "      <td>0</td>\n",
              "      <td>0</td>\n",
              "      <td>1</td>\n",
              "      <td>0</td>\n",
              "      <td>0</td>\n",
              "      <td>0</td>\n",
              "      <td>0</td>\n",
              "      <td>0</td>\n",
              "      <td>1</td>\n",
              "      <td>1</td>\n",
              "    </tr>\n",
              "  </tbody>\n",
              "</table>\n",
              "</div>"
            ],
            "text/plain": [
              "   genero  possui_parceiro  possui_dependentes  assina_telefone  \\\n",
              "0       0                1                   1                1   \n",
              "1       1                0                   0                1   \n",
              "2       1                0                   0                1   \n",
              "3       1                1                   0                1   \n",
              "4       0                1                   0                1   \n",
              "\n",
              "   fatura_online  idoso  meses_contrato  valor_fatura_mensal  \\\n",
              "0              1      0               9                 65.6   \n",
              "1              0      0               9                 59.9   \n",
              "2              1      0               4                 73.9   \n",
              "3              1      1              13                 98.0   \n",
              "4              1      1               3                 83.9   \n",
              "\n",
              "   valor_total_pago  valor_gasto_diario  linhas_multiplas_No  \\\n",
              "0            593.30                2.19                    1   \n",
              "1            542.40                2.00                    0   \n",
              "2            280.85                2.46                    1   \n",
              "3           1237.85                3.27                    1   \n",
              "4            267.40                2.80                    1   \n",
              "\n",
              "   linhas_multiplas_No phone service  linhas_multiplas_Yes  \\\n",
              "0                                  0                     0   \n",
              "1                                  0                     1   \n",
              "2                                  0                     0   \n",
              "3                                  0                     0   \n",
              "4                                  0                     0   \n",
              "\n",
              "   aasinatura_provedor_internet_DSL  aasinatura_provedor_internet_Fiber optic  \\\n",
              "0                                 1                                         0   \n",
              "1                                 1                                         0   \n",
              "2                                 0                                         1   \n",
              "3                                 0                                         1   \n",
              "4                                 0                                         1   \n",
              "\n",
              "   aasinatura_provedor_internet_No  assinatura_seguranca_No  \\\n",
              "0                                0                        1   \n",
              "1                                0                        1   \n",
              "2                                0                        1   \n",
              "3                                0                        1   \n",
              "4                                0                        1   \n",
              "\n",
              "   assinatura_seguranca_No internet service  assinatura_seguranca_Yes  \\\n",
              "0                                         0                         0   \n",
              "1                                         0                         0   \n",
              "2                                         0                         0   \n",
              "3                                         0                         0   \n",
              "4                                         0                         0   \n",
              "\n",
              "   assinatura_backup_No  assinatura_backup_No internet service  \\\n",
              "0                     0                                      0   \n",
              "1                     1                                      0   \n",
              "2                     1                                      0   \n",
              "3                     0                                      0   \n",
              "4                     1                                      0   \n",
              "\n",
              "   assinatura_backup_Yes  assinatura_protecao_dispositivo_No  \\\n",
              "0                      1                                   1   \n",
              "1                      0                                   1   \n",
              "2                      0                                   0   \n",
              "3                      1                                   0   \n",
              "4                      0                                   1   \n",
              "\n",
              "   assinatura_protecao_dispositivo_No internet service  \\\n",
              "0                                                  0     \n",
              "1                                                  0     \n",
              "2                                                  0     \n",
              "3                                                  0     \n",
              "4                                                  0     \n",
              "\n",
              "   assinatura_protecao_dispositivo_Yes  assinatura_suporte_tecnico_No  \\\n",
              "0                                    0                              0   \n",
              "1                                    0                              1   \n",
              "2                                    1                              1   \n",
              "3                                    1                              1   \n",
              "4                                    0                              0   \n",
              "\n",
              "   assinatura_suporte_tecnico_No internet service  \\\n",
              "0                                               0   \n",
              "1                                               0   \n",
              "2                                               0   \n",
              "3                                               0   \n",
              "4                                               0   \n",
              "\n",
              "   assinatura_suporte_tecnico_Yes  assinatura_tv_cabo_No  \\\n",
              "0                               1                      0   \n",
              "1                               0                      1   \n",
              "2                               0                      1   \n",
              "3                               0                      0   \n",
              "4                               1                      0   \n",
              "\n",
              "   assinatura_tv_cabo_No internet service  assinatura_tv_cabo_Yes  \\\n",
              "0                                       0                       1   \n",
              "1                                       0                       0   \n",
              "2                                       0                       0   \n",
              "3                                       0                       1   \n",
              "4                                       0                       1   \n",
              "\n",
              "   assinatura_streaming_filmes_No  \\\n",
              "0                               1   \n",
              "1                               0   \n",
              "2                               1   \n",
              "3                               0   \n",
              "4                               1   \n",
              "\n",
              "   assinatura_streaming_filmes_No internet service  \\\n",
              "0                                                0   \n",
              "1                                                0   \n",
              "2                                                0   \n",
              "3                                                0   \n",
              "4                                                0   \n",
              "\n",
              "   assinatura_streaming_filmes_Yes  tipo_contrato_Month-to-month  \\\n",
              "0                                0                             0   \n",
              "1                                1                             1   \n",
              "2                                0                             1   \n",
              "3                                1                             1   \n",
              "4                                0                             1   \n",
              "\n",
              "   tipo_contrato_One year  tipo_contrato_Two year  \\\n",
              "0                       1                       0   \n",
              "1                       0                       0   \n",
              "2                       0                       0   \n",
              "3                       0                       0   \n",
              "4                       0                       0   \n",
              "\n",
              "   forma_pagamento_Bank transfer (automatic)  \\\n",
              "0                                          0   \n",
              "1                                          0   \n",
              "2                                          0   \n",
              "3                                          0   \n",
              "4                                          0   \n",
              "\n",
              "   forma_pagamento_Credit card (automatic)  forma_pagamento_Electronic check  \\\n",
              "0                                        0                                 0   \n",
              "1                                        0                                 0   \n",
              "2                                        0                                 1   \n",
              "3                                        0                                 1   \n",
              "4                                        0                                 0   \n",
              "\n",
              "   forma_pagamento_Mailed check  churn  \n",
              "0                             1      0  \n",
              "1                             1      0  \n",
              "2                             0      1  \n",
              "3                             0      1  \n",
              "4                             1      1  "
            ]
          },
          "execution_count": 43,
          "metadata": {},
          "output_type": "execute_result"
        }
      ],
      "source": [
        "X = dados_encoding.drop('churn', axis='columns')\n",
        "y = dados_encoding.churn\n",
        "seed = 100\n",
        "\n",
        "from imblearn.over_sampling import SMOTE\n",
        "smt = SMOTE(random_state=seed)\n",
        "X, y = smt.fit_resample(X, y)\n",
        "\n",
        "dados_balanceados = pd.concat([X, y], axis='columns')\n",
        "dados_balanceados.head()"
      ]
    },
    {
      "attachments": {},
      "cell_type": "markdown",
      "metadata": {},
      "source": [
        "## Aplicando modelos de classificação"
      ]
    },
    {
      "attachments": {},
      "cell_type": "markdown",
      "metadata": {},
      "source": [
        "### Modelo Baseline"
      ]
    },
    {
      "cell_type": "code",
      "execution_count": 55,
      "metadata": {},
      "outputs": [
        {
          "name": "stdout",
          "output_type": "stream",
          "text": [
            "[[   0 1553]\n",
            " [   0 1552]]\n",
            "Acurácia modelo Dummy de Baseline: 0.4998\n",
            "Precisão modelo KNN: 0.4998\n"
          ]
        }
      ],
      "source": [
        "from sklearn.dummy import DummyClassifier\n",
        "from sklearn.model_selection import train_test_split\n",
        "import numpy as np\n",
        "\n",
        "np.random.seed(seed)\n",
        "X_treino, X_teste, y_treino, y_teste = train_test_split(X, y, test_size=0.3, random_state=seed, stratify=y)\n",
        "modelo_dummy_baseline = DummyClassifier(strategy='most_frequent')\n",
        "modelo_dummy_baseline.fit(X_treino, y_treino)\n",
        "previsoes_dummy = modelo_dummy_baseline.predict(X_teste)\n",
        "\n",
        "from sklearn.metrics import confusion_matrix\n",
        "from sklearn.metrics import accuracy_score\n",
        "from sklearn.metrics import precision_score\n",
        "\n",
        "print(confusion_matrix(y_teste, previsoes_dummy))\n",
        "print('Acurácia modelo Dummy de Baseline:', accuracy_score(y_teste, previsoes_dummy).round(4))\n",
        "print('Precisão modelo KNN:', precision_score(y_teste, previsoes_dummy).round(4))\n"
      ]
    },
    {
      "attachments": {},
      "cell_type": "markdown",
      "metadata": {},
      "source": [
        "### KNN"
      ]
    },
    {
      "cell_type": "code",
      "execution_count": 45,
      "metadata": {},
      "outputs": [
        {
          "name": "stdout",
          "output_type": "stream",
          "text": [
            "[[1271  282]\n",
            " [ 248 1304]]\n",
            "Acurácia modelo KNN: 0.8293\n",
            "Precisão modelo KNN: 0.8222\n"
          ]
        },
        {
          "name": "stderr",
          "output_type": "stream",
          "text": [
            "c:\\Users\\lucas\\anaconda3\\lib\\site-packages\\sklearn\\neighbors\\_classification.py:228: FutureWarning: Unlike other reduction functions (e.g. `skew`, `kurtosis`), the default behavior of `mode` typically preserves the axis it acts along. In SciPy 1.11.0, this behavior will change: the default value of `keepdims` will become False, the `axis` over which the statistic is taken will be eliminated, and the value None will no longer be accepted. Set `keepdims` to True or False to avoid this warning.\n",
            "  mode, _ = stats.mode(_y[neigh_ind, k], axis=1)\n"
          ]
        }
      ],
      "source": [
        "from sklearn.preprocessing import StandardScaler\n",
        "from sklearn.neighbors import KNeighborsClassifier\n",
        "\n",
        "normalizar = StandardScaler()\n",
        "X_normalizado = normalizar.fit_transform(X)\n",
        "np.random.seed(seed)\n",
        "X_treino, X_teste, y_treino, y_teste = train_test_split(X_normalizado, y, test_size=0.3, random_state=seed, stratify=y)\n",
        "modelo_knn = KNeighborsClassifier(metric='euclidean')\n",
        "modelo_knn.fit(X_treino, y_treino)\n",
        "previsoes_knn = modelo_knn.predict(X_teste)\n",
        "\n",
        "print(confusion_matrix(y_teste, previsoes_knn))\n",
        "print('Acurácia modelo KNN:', accuracy_score(y_teste, previsoes_knn).round(4))\n",
        "print('Precisão modelo KNN:', precision_score(y_teste, previsoes_knn).round(4))"
      ]
    },
    {
      "attachments": {},
      "cell_type": "markdown",
      "metadata": {},
      "source": [
        "### Árvore de Decisão"
      ]
    },
    {
      "cell_type": "code",
      "execution_count": 46,
      "metadata": {},
      "outputs": [
        {
          "name": "stdout",
          "output_type": "stream",
          "text": [
            "[[1242  311]\n",
            " [ 259 1293]]\n",
            "Acurácia modelo Tree: 0.8164\n",
            "Precisão modelo Tree: 0.8061\n"
          ]
        }
      ],
      "source": [
        "from sklearn.tree import DecisionTreeClassifier\n",
        "\n",
        "np.random.seed(seed)\n",
        "X_treino, X_teste, y_treino, y_teste = train_test_split(X, y, test_size=0.3, random_state=seed, stratify=y)\n",
        "modelo_tree = DecisionTreeClassifier(criterion='entropy', random_state=seed)\n",
        "modelo_tree.fit(X_treino, y_treino)\n",
        "previsoes_tree = modelo_tree.predict(X_teste)\n",
        "\n",
        "print(confusion_matrix(y_teste, previsoes_tree))\n",
        "print('Acurácia modelo Tree:', accuracy_score(y_teste, previsoes_tree).round(4))\n",
        "print('Precisão modelo Tree:', precision_score(y_teste, previsoes_tree).round(4))"
      ]
    },
    {
      "cell_type": "code",
      "execution_count": 47,
      "metadata": {},
      "outputs": [],
      "source": [
        "# from sklearn.tree import export_graphviz\n",
        "# import graphviz\n",
        "\n",
        "# dot_data = export_graphviz(modelo_tree, out_file=None, feature_names=X.columns, filled=True, rounded=True, class_names=['Não', 'Sim'])\n",
        "# plot = graphviz.Source(dot_data)\n",
        "# plot"
      ]
    },
    {
      "attachments": {},
      "cell_type": "markdown",
      "metadata": {},
      "source": [
        "### Naive Bayes"
      ]
    },
    {
      "cell_type": "code",
      "execution_count": 48,
      "metadata": {},
      "outputs": [
        {
          "name": "stdout",
          "output_type": "stream",
          "text": [
            "[[1106  447]\n",
            " [ 186 1366]]\n",
            "Acurácia modelo Naive Bayes: 0.7961\n",
            "Precisão modelo Naive Bayes: 0.7534\n"
          ]
        }
      ],
      "source": [
        "from sklearn.naive_bayes import BernoulliNB\n",
        "\n",
        "median_abs = np.abs(np.median(X_treino))\n",
        "median_abs\n",
        "np.random.seed(seed)\n",
        "X_treino, X_teste, y_treino, y_teste = train_test_split(X, y, test_size=0.3, random_state=seed, stratify=y)\n",
        "modelo_nb = BernoulliNB(binarize=median_abs)\n",
        "modelo_nb.fit(X_treino, y_treino)\n",
        "previsoes_nb = modelo_nb.predict(X_teste)\n",
        "\n",
        "print(confusion_matrix(y_teste, previsoes_nb))\n",
        "print('Acurácia modelo Naive Bayes:', accuracy_score(y_teste, previsoes_nb).round(4))\n",
        "print('Precisão modelo Naive Bayes:', precision_score(y_teste, previsoes_nb).round(4))"
      ]
    },
    {
      "attachments": {},
      "cell_type": "markdown",
      "metadata": {},
      "source": [
        "### SVC"
      ]
    },
    {
      "cell_type": "code",
      "execution_count": 49,
      "metadata": {},
      "outputs": [
        {
          "name": "stdout",
          "output_type": "stream",
          "text": [
            "[[1253  300]\n",
            " [ 319 1233]]\n",
            "Acurácia modelo SVC: 0.8006\n",
            "Precisão modelo SVC: 0.8043\n"
          ]
        }
      ],
      "source": [
        "from sklearn.svm import SVC\n",
        "\n",
        "np.random.seed(seed)\n",
        "X_treino, X_teste, y_treino, y_teste = train_test_split(X, y, test_size=0.3, random_state=seed, stratify=y)\n",
        "modelo_svc = SVC(gamma='auto')\n",
        "modelo_svc.fit(X_treino, y_treino)\n",
        "previsoes_svc = modelo_svc.predict(X_teste)\n",
        "\n",
        "print(confusion_matrix(y_teste, previsoes_svc))\n",
        "print('Acurácia modelo SVC:', accuracy_score(y_teste, previsoes_svc).round(4))\n",
        "print('Precisão modelo SVC:', precision_score(y_teste, previsoes_svc).round(4))"
      ]
    },
    {
      "attachments": {},
      "cell_type": "markdown",
      "metadata": {},
      "source": [
        "Utilizando features padronizadas"
      ]
    },
    {
      "cell_type": "code",
      "execution_count": 56,
      "metadata": {},
      "outputs": [
        {
          "name": "stdout",
          "output_type": "stream",
          "text": [
            "[[1355  198]\n",
            " [ 259 1293]]\n",
            "Acurácia modelo SVC: 0.8528\n",
            "Precisão modelo SVC: 0.8672\n"
          ]
        },
        {
          "data": {
            "text/plain": [
              "0.8528180354267311"
            ]
          },
          "execution_count": 56,
          "metadata": {},
          "output_type": "execute_result"
        }
      ],
      "source": [
        "np.random.seed(seed)\n",
        "X_treino, X_teste, y_treino, y_teste = train_test_split(X_normalizado, y, test_size=0.3, random_state=seed, stratify=y)\n",
        "modelo_svc = SVC(gamma='auto')\n",
        "modelo_svc.fit(X_treino, y_treino)\n",
        "previsoes_svc = modelo_svc.predict(X_teste)\n",
        "\n",
        "print(confusion_matrix(y_teste, previsoes_svc))\n",
        "print('Acurácia modelo SVC:', accuracy_score(y_teste, previsoes_svc).round(4))\n",
        "print('Precisão modelo SVC:', precision_score(y_teste, previsoes_svc).round(4))\n",
        "# modelo_svc.score(X_teste, y_teste) - avaliar quando usar este e a acurácia?"
      ]
    },
    {
      "attachments": {},
      "cell_type": "markdown",
      "metadata": {},
      "source": [
        "Entre todos os modelos utilizados, o algoritmo SVC com dados padronizados obteve o melhor resultado."
      ]
    },
    {
      "cell_type": "code",
      "execution_count": 51,
      "metadata": {},
      "outputs": [
        {
          "name": "stderr",
          "output_type": "stream",
          "text": [
            "c:\\Users\\lucas\\anaconda3\\lib\\site-packages\\sklearn\\neighbors\\_classification.py:228: FutureWarning: Unlike other reduction functions (e.g. `skew`, `kurtosis`), the default behavior of `mode` typically preserves the axis it acts along. In SciPy 1.11.0, this behavior will change: the default value of `keepdims` will become False, the `axis` over which the statistic is taken will be eliminated, and the value None will no longer be accepted. Set `keepdims` to True or False to avoid this warning.\n",
            "  mode, _ = stats.mode(_y[neigh_ind, k], axis=1)\n"
          ]
        },
        {
          "name": "stdout",
          "output_type": "stream",
          "text": [
            "[[1271  282]\n",
            " [ 248 1304]]\n",
            "Acurácia modelo KNN: 0.8293\n",
            "Precisão modelo KNN: 0.8222\n",
            "-----------------------------------------\n",
            "[[1242  311]\n",
            " [ 259 1293]]\n",
            "Acurácia modelo Tree: 0.8164\n",
            "Precisão modelo Tree: 0.8061\n",
            "-----------------------------------------\n",
            "[[1106  447]\n",
            " [ 186 1366]]\n",
            "Acurácia modelo Naive Bayes: 0.7961\n",
            "Precisão modelo Naive Bayes: 0.7534\n",
            "-----------------------------------------\n",
            "[[1253  300]\n",
            " [ 319 1233]]\n",
            "Acurácia modelo SVC: 0.8006\n",
            "Precisão modelo SVC: 0.8043\n",
            "-----------------------------------------\n",
            "[[1355  198]\n",
            " [ 259 1293]]\n",
            "Acurácia modelo SVC com features padronizadas: 0.8528\n",
            "Precisão modelo SVC com features padronizadas: 0.8672\n"
          ]
        }
      ],
      "source": [
        "from sklearn.preprocessing import StandardScaler\n",
        "from sklearn.neighbors import KNeighborsClassifier\n",
        "\n",
        "normalizar = StandardScaler()\n",
        "X_normalizado = normalizar.fit_transform(X)\n",
        "np.random.seed(seed)\n",
        "X_treino, X_teste, y_treino, y_teste = train_test_split(X_normalizado, y, test_size=0.3, random_state=seed, stratify=y)\n",
        "modelo_knn = KNeighborsClassifier(metric='euclidean')\n",
        "modelo_knn.fit(X_treino, y_treino)\n",
        "previsoes_knn = modelo_knn.predict(X_teste)\n",
        "\n",
        "print(confusion_matrix(y_teste, previsoes_knn))\n",
        "print('Acurácia modelo KNN:', accuracy_score(y_teste, previsoes_knn).round(4))\n",
        "print('Precisão modelo KNN:', precision_score(y_teste, previsoes_knn).round(4))\n",
        "print('-----------------------------------------')\n",
        "\n",
        "from sklearn.tree import DecisionTreeClassifier\n",
        "\n",
        "np.random.seed(seed)\n",
        "X_treino, X_teste, y_treino, y_teste = train_test_split(X, y, test_size=0.3, random_state=seed, stratify=y)\n",
        "modelo_tree = DecisionTreeClassifier(criterion='entropy', random_state=seed)\n",
        "modelo_tree.fit(X_treino, y_treino)\n",
        "previsoes_tree = modelo_tree.predict(X_teste)\n",
        "\n",
        "print(confusion_matrix(y_teste, previsoes_tree))\n",
        "print('Acurácia modelo Tree:', accuracy_score(y_teste, previsoes_tree).round(4))\n",
        "print('Precisão modelo Tree:', precision_score(y_teste, previsoes_tree).round(4))\n",
        "print('-----------------------------------------')\n",
        "\n",
        "from sklearn.naive_bayes import BernoulliNB\n",
        "\n",
        "median_abs = np.abs(np.median(X_treino))\n",
        "median_abs\n",
        "np.random.seed(seed)\n",
        "X_treino, X_teste, y_treino, y_teste = train_test_split(X, y, test_size=0.3, random_state=seed, stratify=y)\n",
        "modelo_nb = BernoulliNB(binarize=median_abs)\n",
        "modelo_nb.fit(X_treino, y_treino)\n",
        "previsoes_nb = modelo_nb.predict(X_teste)\n",
        "\n",
        "print(confusion_matrix(y_teste, previsoes_nb))\n",
        "print('Acurácia modelo Naive Bayes:', accuracy_score(y_teste, previsoes_nb).round(4))\n",
        "print('Precisão modelo Naive Bayes:', precision_score(y_teste, previsoes_nb).round(4))\n",
        "print('-----------------------------------------')\n",
        "\n",
        "from sklearn.svm import SVC\n",
        "\n",
        "np.random.seed(seed)\n",
        "X_treino, X_teste, y_treino, y_teste = train_test_split(X, y, test_size=0.3, random_state=seed, stratify=y)\n",
        "modelo_svc = SVC(gamma='auto')\n",
        "modelo_svc.fit(X_treino, y_treino)\n",
        "previsoes_svc = modelo_svc.predict(X_teste)\n",
        "\n",
        "print(confusion_matrix(y_teste, previsoes_svc))\n",
        "print('Acurácia modelo SVC:', accuracy_score(y_teste, previsoes_svc).round(4))\n",
        "print('Precisão modelo SVC:', precision_score(y_teste, previsoes_svc).round(4))\n",
        "print('-----------------------------------------')\n",
        "\n",
        "np.random.seed(seed)\n",
        "X_treino, X_teste, y_treino, y_teste = train_test_split(X_normalizado, y, test_size=0.3, random_state=seed, stratify=y)\n",
        "modelo_svc = SVC(gamma='auto')\n",
        "modelo_svc.fit(X_treino, y_treino)\n",
        "previsoes_svc = modelo_svc.predict(X_teste)\n",
        "\n",
        "print(confusion_matrix(y_teste, previsoes_svc))\n",
        "print('Acurácia modelo SVC com features padronizadas:', accuracy_score(y_teste, previsoes_svc).round(4))\n",
        "print('Precisão modelo SVC com features padronizadas:', precision_score(y_teste, previsoes_svc).round(4))"
      ]
    },
    {
      "cell_type": "code",
      "execution_count": null,
      "metadata": {},
      "outputs": [],
      "source": []
    }
  ],
  "metadata": {
    "colab": {
      "collapsed_sections": [
        "T7xvTgfG7OmV",
        "mjR1lOwH9FSc",
        "BKMWL8S9Wk9v",
        "vjQ9FW7D9e7A",
        "oMM4PDs7SHT6"
      ],
      "provenance": [],
      "toc_visible": true
    },
    "kernelspec": {
      "display_name": "base",
      "language": "python",
      "name": "python3"
    },
    "language_info": {
      "codemirror_mode": {
        "name": "ipython",
        "version": 3
      },
      "file_extension": ".py",
      "mimetype": "text/x-python",
      "name": "python",
      "nbconvert_exporter": "python",
      "pygments_lexer": "ipython3",
      "version": "3.9.13"
    },
    "orig_nbformat": 4
  },
  "nbformat": 4,
  "nbformat_minor": 0
}
